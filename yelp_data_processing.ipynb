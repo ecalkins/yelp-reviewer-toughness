{
 "cells": [
  {
   "cell_type": "code",
   "execution_count": 91,
   "metadata": {
    "ExecuteTime": {
     "end_time": "2018-12-03T03:49:09.952442Z",
     "start_time": "2018-12-03T03:47:47.908439Z"
    }
   },
   "outputs": [],
   "source": [
    "reset -fs"
   ]
  },
  {
   "cell_type": "code",
   "execution_count": 92,
   "metadata": {
    "ExecuteTime": {
     "end_time": "2018-12-03T03:49:09.963377Z",
     "start_time": "2018-12-03T03:49:09.955397Z"
    }
   },
   "outputs": [],
   "source": [
    "import sys\n",
    "import json\n",
    "import pandas as pd\n",
    "import numpy as np\n",
    "import matplotlib.pyplot as plt\n",
    "import seaborn as sns\n",
    "import re\n",
    "import string\n",
    "from sklearn.feature_extraction.text import ENGLISH_STOP_WORDS\n",
    "from nltk.stem import WordNetLemmatizer\n",
    "from textblob import TextBlob as tb\n",
    "from autocorrect import spell"
   ]
  },
  {
   "cell_type": "code",
   "execution_count": 93,
   "metadata": {
    "ExecuteTime": {
     "end_time": "2018-12-03T03:53:21.500568Z",
     "start_time": "2018-12-03T03:49:09.966369Z"
    }
   },
   "outputs": [],
   "source": [
    "review_fn = \"data/yelp_academic_dataset_review.json\"\n",
    "with open(review_fn, 'r', encoding='UTF-8') as f:\n",
    "    rev_data = f.readlines()\n",
    "    rev_data = list(map(json.loads, rev_data))\n",
    "    \n",
    "rev_df = pd.DataFrame(rev_data)"
   ]
  },
  {
   "cell_type": "code",
   "execution_count": 94,
   "metadata": {
    "ExecuteTime": {
     "end_time": "2018-12-03T03:53:35.134892Z",
     "start_time": "2018-12-03T03:53:21.534178Z"
    }
   },
   "outputs": [],
   "source": [
    "business_fn = 'data/yelp_academic_dataset_business.json'\n",
    "\n",
    "with open(business_fn, 'r', encoding='UTF-8') as f:\n",
    "    bus_data = f.readlines()\n",
    "    bus_data = list(map(json.loads, bus_data))\n",
    "\n",
    "bus_df = pd.DataFrame(bus_data)[\n",
    "    ['business_id', 'categories', 'city', 'name', 'review_count', 'stars']]"
   ]
  },
  {
   "cell_type": "code",
   "execution_count": 95,
   "metadata": {
    "ExecuteTime": {
     "end_time": "2018-12-03T03:54:09.129041Z",
     "start_time": "2018-12-03T03:53:35.134892Z"
    }
   },
   "outputs": [],
   "source": [
    "bus_df = bus_df[bus_df.categories.str.contains('Restaurant|Food', na=False)]\n",
    "\n",
    "rest_df = rev_df.merge(bus_df, how='inner', left_on='business_id',\n",
    "                       right_on='business_id', suffixes=('_rev', '_rest'))"
   ]
  },
  {
   "cell_type": "code",
   "execution_count": 96,
   "metadata": {
    "ExecuteTime": {
     "end_time": "2018-12-03T03:54:20.191809Z",
     "start_time": "2018-12-03T03:54:09.131000Z"
    }
   },
   "outputs": [
    {
     "name": "stdout",
     "output_type": "stream",
     "text": [
      "count    1.073841e+06\n",
      "mean     3.742384e+00\n",
      "std      1.208344e+01\n",
      "min      1.000000e+00\n",
      "25%      1.000000e+00\n",
      "50%      1.000000e+00\n",
      "75%      3.000000e+00\n",
      "max      3.057000e+03\n",
      "Name: review_id, dtype: float64\n"
     ]
    },
    {
     "data": {
      "text/plain": [
       "<matplotlib.axes._subplots.AxesSubplot at 0x1b074bb4e10>"
      ]
     },
     "execution_count": 96,
     "metadata": {},
     "output_type": "execute_result"
    },
    {
     "data": {
      "image/png": "[encoded data removed]",
      "text/plain": [
       "<Figure size 792x576 with 4 Axes>"
      ]
     },
     "metadata": {},
     "output_type": "display_data"
    }
   ],
   "source": [
    "# number of users by review count\n",
    "usr_rev_count = rest_df.groupby('user_id')['review_id'].count()\n",
    "print(usr_rev_count.describe())\n",
    "fig, axes = plt.subplots(nrows=2, ncols=2)\n",
    "fig.set_size_inches(11,8)\n",
    "usr_rev_count[usr_rev_count < 3].hist(ax=axes[0,0],xlabelsize=2)\n",
    "usr_rev_count[(usr_rev_count > 3) & (usr_rev_count < 35)].hist(ax=axes[0,1])\n",
    "usr_rev_count[(usr_rev_count > 35) & (usr_rev_count < 100)].hist(ax=axes[1,0])\n",
    "usr_rev_count[(usr_rev_count > 100)].hist(ax=axes[1,1])"
   ]
  },
  {
   "cell_type": "code",
   "execution_count": 97,
   "metadata": {
    "ExecuteTime": {
     "end_time": "2018-12-03T03:54:26.983530Z",
     "start_time": "2018-12-03T03:54:20.194802Z"
    }
   },
   "outputs": [],
   "source": [
    "rest_df['usr_rev_count'] = rest_df.groupby('user_id')['review_id'].transform('count')\n",
    "rest_df_smpl = rest_df[(rest_df.usr_rev_count > 10) & (rest_df.usr_rev_count < 20)]"
   ]
  },
  {
   "cell_type": "code",
   "execution_count": 98,
   "metadata": {
    "ExecuteTime": {
     "end_time": "2018-12-03T03:54:28.165214Z",
     "start_time": "2018-12-03T03:54:27.009823Z"
    }
   },
   "outputs": [
    {
     "name": "stderr",
     "output_type": "stream",
     "text": [
      "C:\\Users\\dorse\\Miniconda3\\envs\\ml\\lib\\site-packages\\ipykernel_launcher.py:1: SettingWithCopyWarning: \n",
      "A value is trying to be set on a copy of a slice from a DataFrame.\n",
      "Try using .loc[row_indexer,col_indexer] = value instead\n",
      "\n",
      "See the caveats in the documentation: http://pandas.pydata.org/pandas-docs/stable/indexing.html#indexing-view-versus-copy\n",
      "  \"\"\"Entry point for launching an IPython kernel.\n",
      "C:\\Users\\dorse\\Miniconda3\\envs\\ml\\lib\\site-packages\\ipykernel_launcher.py:2: SettingWithCopyWarning: \n",
      "A value is trying to be set on a copy of a slice from a DataFrame.\n",
      "Try using .loc[row_indexer,col_indexer] = value instead\n",
      "\n",
      "See the caveats in the documentation: http://pandas.pydata.org/pandas-docs/stable/indexing.html#indexing-view-versus-copy\n",
      "  \n"
     ]
    }
   ],
   "source": [
    "rest_df_smpl['stars_delta'] = rest_df_smpl.stars_rev - rest_df_smpl.stars_rest\n",
    "rest_df_smpl['avg_star_delta'] = rest_df_smpl.groupby(['user_id'])['stars_delta'].transform('mean')"
   ]
  },
  {
   "cell_type": "code",
   "execution_count": 99,
   "metadata": {
    "ExecuteTime": {
     "end_time": "2018-12-03T03:54:28.626849Z",
     "start_time": "2018-12-03T03:54:28.167209Z"
    }
   },
   "outputs": [
    {
     "name": "stdout",
     "output_type": "stream",
     "text": [
      "       avg_star_delta\n",
      "count    35051.000000\n",
      "mean         0.019316\n",
      "std          0.542515\n",
      "min         -2.666667\n",
      "25%         -0.291667\n",
      "50%          0.062500\n",
      "75%          0.384615\n",
      "max          1.833333\n"
     ]
    },
    {
     "data": {
      "text/plain": [
       "array([[<matplotlib.axes._subplots.AxesSubplot object at 0x000001B074CAC710>]],\n",
       "      dtype=object)"
      ]
     },
     "execution_count": 99,
     "metadata": {},
     "output_type": "execute_result"
    },
    {
     "data": {
      "image/png": "[encoded data removed]",
      "text/plain": [
       "<Figure size 432x288 with 1 Axes>"
      ]
     },
     "metadata": {},
     "output_type": "display_data"
    }
   ],
   "source": [
    "# distribution of users average star delta\n",
    "usr_deltas = rest_df_smpl[['user_id','avg_star_delta']].drop_duplicates()\n",
    "print(usr_deltas.describe()) # .54/-.54 std to be used as easy/med/hard thresholds\n",
    "usr_deltas.hist(bins=20, xlabelsize=10)"
   ]
  },
  {
   "cell_type": "code",
   "execution_count": 100,
   "metadata": {
    "ExecuteTime": {
     "end_time": "2018-12-03T03:54:28.896240Z",
     "start_time": "2018-12-03T03:54:28.627836Z"
    }
   },
   "outputs": [
    {
     "name": "stdout",
     "output_type": "stream",
     "text": [
      "73403\n",
      "319339\n",
      "81423\n"
     ]
    }
   ],
   "source": [
    "# number of easy, med, hard reviews\n",
    "print(len(rest_df_smpl[rest_df_smpl.avg_star_delta < -0.5]))\n",
    "print(len(rest_df_smpl[(rest_df_smpl.avg_star_delta > -0.5) & (rest_df_smpl.avg_star_delta < 0.5)]))\n",
    "print(len(rest_df_smpl[rest_df_smpl.avg_star_delta > 0.5]))"
   ]
  },
  {
   "cell_type": "code",
   "execution_count": 101,
   "metadata": {
    "ExecuteTime": {
     "end_time": "2018-12-03T03:54:33.676325Z",
     "start_time": "2018-12-03T03:54:28.898115Z"
    }
   },
   "outputs": [],
   "source": [
    "df_by_usr = rest_df_smpl.groupby(['user_id', 'avg_star_delta'])['text'].sum().reset_index(name='text_agg')\n",
    "df_by_usr['reviewer_label'] = pd.cut(df_by_usr['avg_star_delta'], bins=[-5,-0.5,.5,5], include_lowest=False, labels=['hard', 'med', 'easy'])"
   ]
  },
  {
   "cell_type": "code",
   "execution_count": 102,
   "metadata": {
    "ExecuteTime": {
     "end_time": "2018-12-03T03:54:33.688261Z",
     "start_time": "2018-12-03T03:54:33.678314Z"
    }
   },
   "outputs": [
    {
     "name": "stdout",
     "output_type": "stream",
     "text": [
      "5910\n",
      "23403\n",
      "5738\n",
      "0.6676842315483154\n"
     ]
    }
   ],
   "source": [
    "# number of easy, med, hard reviewers\n",
    "hard = sum(df_by_usr['reviewer_label'] == 'easy')\n",
    "med = sum(df_by_usr['reviewer_label'] == 'med')\n",
    "easy = sum(df_by_usr['reviewer_label'] == 'hard')\n",
    "print(hard)\n",
    "print(med)\n",
    "print(easy)\n",
    "print(med/len(df_by_usr))"
   ]
  },
  {
   "cell_type": "code",
   "execution_count": 103,
   "metadata": {
    "ExecuteTime": {
     "end_time": "2018-12-03T03:54:34.403380Z",
     "start_time": "2018-12-03T03:54:33.691250Z"
    }
   },
   "outputs": [
    {
     "name": "stderr",
     "output_type": "stream",
     "text": [
      "C:\\Users\\dorse\\Miniconda3\\envs\\ml\\lib\\site-packages\\ipykernel_launcher.py:2: SettingWithCopyWarning: \n",
      "A value is trying to be set on a copy of a slice from a DataFrame.\n",
      "Try using .loc[row_indexer,col_indexer] = value instead\n",
      "\n",
      "See the caveats in the documentation: http://pandas.pydata.org/pandas-docs/stable/indexing.html#indexing-view-versus-copy\n",
      "  \n"
     ]
    }
   ],
   "source": [
    "# distribution of review length\n",
    "rest_df_smpl['rev_len'] = rest_df_smpl.text.apply(lambda x: len(x))"
   ]
  },
  {
   "cell_type": "code",
   "execution_count": 104,
   "metadata": {
    "ExecuteTime": {
     "end_time": "2018-12-03T03:54:34.611803Z",
     "start_time": "2018-12-03T03:54:34.405374Z"
    }
   },
   "outputs": [
    {
     "name": "stdout",
     "output_type": "stream",
     "text": [
      "count    489729.000000\n",
      "mean        558.578048\n",
      "std         506.893250\n",
      "min           1.000000\n",
      "25%         231.000000\n",
      "50%         402.000000\n",
      "75%         709.000000\n",
      "max        5000.000000\n",
      "Name: rev_len, dtype: float64\n"
     ]
    },
    {
     "data": {
      "text/plain": [
       "<matplotlib.axes._subplots.AxesSubplot at 0x1b0d8675c18>"
      ]
     },
     "execution_count": 104,
     "metadata": {},
     "output_type": "execute_result"
    },
    {
     "data": {
      "image/png": "[encoded data removed]",
      "text/plain": [
       "<Figure size 432x288 with 1 Axes>"
      ]
     },
     "metadata": {},
     "output_type": "display_data"
    }
   ],
   "source": [
    "# distribution of individual reviews by string length (# of characters)\n",
    "print(rest_df_smpl.rev_len.describe())\n",
    "rest_df_smpl.rev_len.hist()"
   ]
  },
  {
   "cell_type": "markdown",
   "metadata": {},
   "source": [
    "## Process text data"
   ]
  },
  {
   "cell_type": "code",
   "execution_count": 105,
   "metadata": {
    "ExecuteTime": {
     "end_time": "2018-12-03T03:54:34.619786Z",
     "start_time": "2018-12-03T03:54:34.613783Z"
    }
   },
   "outputs": [],
   "source": [
    "def normalize(text):\n",
    "    \"\"\"\n",
    "    Normalize text as follows: lowercase, strip punctuation,\n",
    "    remove stop words, drop words of length < 3, lemmatize words.\n",
    "    \"\"\"\n",
    "    regex = re.compile('[' + re.escape(string.punctuation) + '0-9\\\\r\\\\t\\\\n]')\n",
    "    nopunct = regex.sub(\" \", text)  # delete stuff but leave at least a space to avoid clumping together\n",
    "    words = nopunct.split(\" \")\n",
    "    lemm = WordNetLemmatizer()\n",
    "    words = [lemm.lemmatize(w.lower()) for w in words if len(w) > 2 and w.lower() not in ENGLISH_STOP_WORDS]\n",
    "    \n",
    "    return ' '.join(words)"
   ]
  },
  {
   "cell_type": "code",
   "execution_count": 106,
   "metadata": {
    "ExecuteTime": {
     "end_time": "2018-12-03T03:56:26.094894Z",
     "start_time": "2018-12-03T03:54:34.621761Z"
    }
   },
   "outputs": [],
   "source": [
    "df_by_usr.text_agg = df_by_usr.text_agg.apply(lambda x: normalize(x))"
   ]
  },
  {
   "cell_type": "code",
   "execution_count": 107,
   "metadata": {
    "ExecuteTime": {
     "end_time": "2018-12-03T03:56:30.103946Z",
     "start_time": "2018-12-03T03:56:26.096390Z"
    }
   },
   "outputs": [
    {
     "name": "stdout",
     "output_type": "stream",
     "text": [
      "count    35051.000000\n",
      "mean      7804.395566\n",
      "std       5053.949112\n",
      "min        836.000000\n",
      "25%       4371.000000\n",
      "50%       6452.000000\n",
      "75%       9774.500000\n",
      "max      76422.000000\n",
      "Name: text_agg, dtype: float64\n"
     ]
    },
    {
     "data": {
      "text/plain": [
       "count    35051.000000\n",
       "mean      4254.658498\n",
       "std       2738.314453\n",
       "min         14.000000\n",
       "25%       2414.000000\n",
       "50%       3512.000000\n",
       "75%       5279.000000\n",
       "max      43510.000000\n",
       "Name: text_agg, dtype: float64"
      ]
     },
     "execution_count": 107,
     "metadata": {},
     "output_type": "execute_result"
    }
   ],
   "source": [
    "# Compare lengths of aggregated text pre and post normalizing\n",
    "unproc_text = rest_df_smpl.groupby(['user_id', 'avg_star_delta'])['text'].sum().reset_index(name='text_agg')\n",
    "print(unproc_text.text_agg.apply(lambda x: len(x)).describe()) # previous lengths of aggregated review text\n",
    "df_by_usr.text_agg.apply(lambda x: len(x)).describe() # lengths of aggregated review text post-processing"
   ]
  },
  {
   "cell_type": "markdown",
   "metadata": {},
   "source": [
    "## Write tidy data back to json file"
   ]
  },
  {
   "cell_type": "code",
   "execution_count": 108,
   "metadata": {
    "ExecuteTime": {
     "end_time": "2018-12-03T03:56:32.316775Z",
     "start_time": "2018-12-03T03:56:30.105914Z"
    }
   },
   "outputs": [],
   "source": [
    "with open('df_by_usr.json', 'w', encoding='UTF-8') as f:\n",
    "    f.write(df_by_usr.to_json(orient='records', lines=True))"
   ]
  },
  {
   "cell_type": "code",
   "execution_count": null,
   "metadata": {},
   "outputs": [],
   "source": []
  },
  {
   "cell_type": "markdown",
   "metadata": {},
   "source": [
    "## Test reading back in tidy data"
   ]
  },
  {
   "cell_type": "code",
   "execution_count": null,
   "metadata": {
    "ExecuteTime": {
     "end_time": "2018-12-02T23:24:32.010116Z",
     "start_time": "2018-12-02T23:24:29.452276Z"
    }
   },
   "outputs": [],
   "source": [
    "with open('df_by_usr.json', 'r', encoding='UTF-8') as f:\n",
    "    data = f.readlines()\n",
    "    df_by_usr_data = list(map(json.loads, data))\n",
    "    \n",
    "df_by_usr = pd.DataFrame(df_by_usr_data)"
   ]
  },
  {
   "cell_type": "code",
   "execution_count": null,
   "metadata": {
    "ExecuteTime": {
     "end_time": "2018-12-02T23:26:58.373690Z",
     "start_time": "2018-12-02T23:26:58.333659Z"
    },
    "scrolled": true
   },
   "outputs": [],
   "source": [
    "hard = sum(df_by_usr_r['reviewer_label'] == 'easy')\n",
    "med = sum(df_by_usr_r['reviewer_label'] == 'med')\n",
    "easy = sum(df_by_usr_r['reviewer_label'] == 'hard')\n",
    "print(hard)\n",
    "print(med)\n",
    "print(easy)\n",
    "print(med/len(df_by_usr_r))\n",
    "df_by_usr_r.describe()"
   ]
  }
 ],
 "metadata": {
  "kernelspec": {
   "display_name": "Python 3",
   "language": "python",
   "name": "python3"
  },
  "language_info": {
   "codemirror_mode": {
    "name": "ipython",
    "version": 3
   },
   "file_extension": ".py",
   "mimetype": "text/x-python",
   "name": "python",
   "nbconvert_exporter": "python",
   "pygments_lexer": "ipython3",
   "version": "3.6.6"
  }
 },
 "nbformat": 4,
 "nbformat_minor": 2
}
