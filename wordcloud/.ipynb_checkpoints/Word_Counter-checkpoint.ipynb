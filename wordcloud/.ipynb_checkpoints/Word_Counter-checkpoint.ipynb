{
 "cells": [
  {
   "cell_type": "code",
   "execution_count": 1,
   "metadata": {},
   "outputs": [],
   "source": [
    "import json\n",
    "import pandas as pd\n",
    "import random"
   ]
  },
  {
   "cell_type": "code",
   "execution_count": 2,
   "metadata": {},
   "outputs": [],
   "source": [
    "input_json = \"df_by_usr.json\"\n",
    "with open(input_json, 'r') as f:\n",
    "    data = f.readlines()\n",
    "    data = list(map(json.loads, data))"
   ]
  },
  {
   "cell_type": "code",
   "execution_count": 3,
   "metadata": {},
   "outputs": [
    {
     "data": {
      "text/html": [
       "<div>\n",
       "<style scoped>\n",
       "    .dataframe tbody tr th:only-of-type {\n",
       "        vertical-align: middle;\n",
       "    }\n",
       "\n",
       "    .dataframe tbody tr th {\n",
       "        vertical-align: top;\n",
       "    }\n",
       "\n",
       "    .dataframe thead th {\n",
       "        text-align: right;\n",
       "    }\n",
       "</style>\n",
       "<table border=\"1\" class=\"dataframe\">\n",
       "  <thead>\n",
       "    <tr style=\"text-align: right;\">\n",
       "      <th></th>\n",
       "      <th>avg_star_delta</th>\n",
       "      <th>reviewer_label</th>\n",
       "      <th>text_agg</th>\n",
       "      <th>user_id</th>\n",
       "    </tr>\n",
       "  </thead>\n",
       "  <tbody>\n",
       "    <tr>\n",
       "      <th>0</th>\n",
       "      <td>-0.318182</td>\n",
       "      <td>med</td>\n",
       "      <td>ummm star rating yelp point come sandwich plac...</td>\n",
       "      <td>--3WaS23LcIXtxyFULJHTA</td>\n",
       "    </tr>\n",
       "    <tr>\n",
       "      <th>1</th>\n",
       "      <td>-0.947368</td>\n",
       "      <td>hard</td>\n",
       "      <td>opinion restaurant best food phoenix taste gre...</td>\n",
       "      <td>--4rAAfZnEIAKJE80aIiYg</td>\n",
       "    </tr>\n",
       "    <tr>\n",
       "      <th>2</th>\n",
       "      <td>0.333333</td>\n",
       "      <td>med</td>\n",
       "      <td>right world going gawd awful hooter vega getti...</td>\n",
       "      <td>--CIuK7sUpaNzalLAlHJKA</td>\n",
       "    </tr>\n",
       "    <tr>\n",
       "      <th>3</th>\n",
       "      <td>0.900000</td>\n",
       "      <td>easy</td>\n",
       "      <td>best buffet price quality went saturday night ...</td>\n",
       "      <td>--HCoE1ghaAlcaAfshICgw</td>\n",
       "    </tr>\n",
       "    <tr>\n",
       "      <th>4</th>\n",
       "      <td>-0.166667</td>\n",
       "      <td>med</td>\n",
       "      <td>great pizza pasta just quality pizza definitel...</td>\n",
       "      <td>--NIc98RMssgy0mSZL3vpA</td>\n",
       "    </tr>\n",
       "  </tbody>\n",
       "</table>\n",
       "</div>"
      ],
      "text/plain": [
       "   avg_star_delta reviewer_label  \\\n",
       "0       -0.318182            med   \n",
       "1       -0.947368           hard   \n",
       "2        0.333333            med   \n",
       "3        0.900000           easy   \n",
       "4       -0.166667            med   \n",
       "\n",
       "                                            text_agg                 user_id  \n",
       "0  ummm star rating yelp point come sandwich plac...  --3WaS23LcIXtxyFULJHTA  \n",
       "1  opinion restaurant best food phoenix taste gre...  --4rAAfZnEIAKJE80aIiYg  \n",
       "2  right world going gawd awful hooter vega getti...  --CIuK7sUpaNzalLAlHJKA  \n",
       "3  best buffet price quality went saturday night ...  --HCoE1ghaAlcaAfshICgw  \n",
       "4  great pizza pasta just quality pizza definitel...  --NIc98RMssgy0mSZL3vpA  "
      ]
     },
     "execution_count": 3,
     "metadata": {},
     "output_type": "execute_result"
    }
   ],
   "source": [
    "df = pd.DataFrame(data)\n",
    "df.head()"
   ]
  },
  {
   "cell_type": "code",
   "execution_count": 4,
   "metadata": {},
   "outputs": [
    {
     "data": {
      "text/plain": [
       "(35051, 4)"
      ]
     },
     "execution_count": 4,
     "metadata": {},
     "output_type": "execute_result"
    }
   ],
   "source": [
    "df.shape"
   ]
  },
  {
   "cell_type": "code",
   "execution_count": 5,
   "metadata": {},
   "outputs": [
    {
     "data": {
      "text/plain": [
       "'best buffet price quality went saturday night buffet plus prime rib sushi fresh pasta excellent dessert bar amazing dozen pie lot shooter sorbet cake staff friendly attentive saturday night seated minute know restaurant star rating settebello star went lunch overly crowded appetizer delicious pizza came minute ordering pizza make drool just thinking fresh mozzarella sauce crushed tomato seasoning divine learned authentic pizza aren cut cut anyways pizza big split appetizer going sure bbq heaven food authentic savory want barbecue place got small appetizer sampler party tried tri tip sandwich delicious meat strawberry lemonade refreshing huge glass didn need refill came dessert highly recommend snicker ice cream cake smart share enormous service little slow didn initially ask wanted dessert end food won star review went lunch moderately busy menu isn deep option available sounded delicious got grilled cheese excellent reason restaurant star waiting time lunch plan hour proactive asking check think staff know long thing bus boy bring drink prepared minute delicious food friendly staff went lunch started bread offered butter type oil sampling cheese meat main course tried salmon panini came sliced cucumber green yellow onion came order sweet potato fry overall wonderful experience definitely excellent appetizer especially chili fry sweet potato fry burger right quite worth price staff friendly overall good dining experience little expensive great burger place loved warm pretzel burger gigantic overall pretty quick service hour lunch dinner eat best option roll delicious authentic atmosphere great quiet little dark service surprisingly fast don judge order dessert delicious food got carnitas couldn happier don like guacamole couldn resist tableside guac moth landed coworkers cappuccino meal completely random happening server saw happen immediately replaced cappuccino gave gift card trouble service food spectacular pizza filling slice typical pizza easily eat piece try cheesecake table tried traditional cheesecake oreo cheesecake delicious like undo belt make room delicious best hawaiian restaurant la vega hand wonderful lunch location open atmosphere literally wall open fast service delicious food got pesto chicken wrap fry hardly finish place awesome great atmosphere good service amazing food linguine delicious attentive staff busy thursday afternoon like waiter waitress table ordered special pasta dish wild boar meatball did feel super manly eating delicious cronut cronut lovechild croissant doughnut wait line hour new york just waltz right guest town sure pick cronuts pink box edit early cronuts won ready optimal time'"
      ]
     },
     "execution_count": 5,
     "metadata": {},
     "output_type": "execute_result"
    }
   ],
   "source": [
    "df_easy = list(df.loc[df['reviewer_label'] == 'easy'][\"text_agg\"])\n",
    "df_easy[0]"
   ]
  },
  {
   "cell_type": "code",
   "execution_count": 6,
   "metadata": {},
   "outputs": [
    {
     "data": {
      "text/plain": [
       "{'easy', 'hard', 'med'}"
      ]
     },
     "execution_count": 6,
     "metadata": {},
     "output_type": "execute_result"
    }
   ],
   "source": [
    "reviewer_label_list = set(df['reviewer_label'])\n",
    "reviewer_label_list"
   ]
  },
  {
   "cell_type": "code",
   "execution_count": 7,
   "metadata": {},
   "outputs": [],
   "source": [
    "dict_text_agg = dict()\n",
    "for label in reviewer_label_list:\n",
    "    temp_text_agg = list(df.loc[df['reviewer_label'] == label][\"text_agg\"])\n",
    "    temp_text_agg = [w.replace(\"\\n\", \" \") for w in temp_text_agg]\n",
    "    temp_text_agg = [w.replace(\"\\r\", \" \") for w in temp_text_agg]\n",
    "    dict_text_agg[label] = temp_text_agg"
   ]
  },
  {
   "cell_type": "code",
   "execution_count": 8,
   "metadata": {},
   "outputs": [
    {
     "data": {
      "text/plain": [
       "'best buffet price quality went saturday night buffet plus prime rib sushi fresh pasta excellent dessert bar amazing dozen pie lot shooter sorbet cake staff friendly attentive saturday night seated minute know restaurant star rating settebello star went lunch overly crowded appetizer delicious pizza came minute ordering pizza make drool just thinking fresh mozzarella sauce crushed tomato seasoning divine learned authentic pizza aren cut cut anyways pizza big split appetizer going sure bbq heaven food authentic savory want barbecue place got small appetizer sampler party tried tri tip sandwich delicious meat strawberry lemonade refreshing huge glass didn need refill came dessert highly recommend snicker ice cream cake smart share enormous service little slow didn initially ask wanted dessert end food won star review went lunch moderately busy menu isn deep option available sounded delicious got grilled cheese excellent reason restaurant star waiting time lunch plan hour proactive asking check think staff know long thing bus boy bring drink prepared minute delicious food friendly staff went lunch started bread offered butter type oil sampling cheese meat main course tried salmon panini came sliced cucumber green yellow onion came order sweet potato fry overall wonderful experience definitely excellent appetizer especially chili fry sweet potato fry burger right quite worth price staff friendly overall good dining experience little expensive great burger place loved warm pretzel burger gigantic overall pretty quick service hour lunch dinner eat best option roll delicious authentic atmosphere great quiet little dark service surprisingly fast don judge order dessert delicious food got carnitas couldn happier don like guacamole couldn resist tableside guac moth landed coworkers cappuccino meal completely random happening server saw happen immediately replaced cappuccino gave gift card trouble service food spectacular pizza filling slice typical pizza easily eat piece try cheesecake table tried traditional cheesecake oreo cheesecake delicious like undo belt make room delicious best hawaiian restaurant la vega hand wonderful lunch location open atmosphere literally wall open fast service delicious food got pesto chicken wrap fry hardly finish place awesome great atmosphere good service amazing food linguine delicious attentive staff busy thursday afternoon like waiter waitress table ordered special pasta dish wild boar meatball did feel super manly eating delicious cronut cronut lovechild croissant doughnut wait line hour new york just waltz right guest town sure pick cronuts pink box edit early cronuts won ready optimal time'"
      ]
     },
     "execution_count": 8,
     "metadata": {},
     "output_type": "execute_result"
    }
   ],
   "source": [
    "dict_text_agg['easy'][0]"
   ]
  },
  {
   "cell_type": "code",
   "execution_count": 9,
   "metadata": {},
   "outputs": [
    {
     "data": {
      "text/plain": [
       "dict_keys(['med', 'hard', 'easy'])"
      ]
     },
     "execution_count": 9,
     "metadata": {},
     "output_type": "execute_result"
    }
   ],
   "source": [
    "dict_text_agg.keys()"
   ]
  },
  {
   "cell_type": "code",
   "execution_count": 10,
   "metadata": {},
   "outputs": [],
   "source": [
    "from pyspark import SparkContext, SparkConf\n",
    "import nltk\n",
    "from nltk.stem.porter import *\n",
    "from sklearn.feature_extraction import stop_words\n",
    "import string\n",
    "from collections import Counter\n",
    "\n",
    "# Spark Setup\n",
    "app_name = \"most_common_word_review\"\n",
    "conf = SparkConf().setAppName(app_name)\n",
    "sc = SparkContext(conf=conf)"
   ]
  },
  {
   "cell_type": "code",
   "execution_count": 11,
   "metadata": {},
   "outputs": [],
   "source": [
    "def tokenize(text):\n",
    "    \"\"\"\n",
    "    Tokenize text and return a non-unique list of tokenized words\n",
    "    found in the text. Normalize to lowercase, strip punctuation,\n",
    "    remove stop words, drop words of length < 3, strip digits.\n",
    "    \"\"\"\n",
    "    text = text.lower() # get lower case\n",
    "    regex = re.compile('[' + re.escape(string.punctuation) + '0-9\\\\r\\\\t\\\\n]')\n",
    "    nopunct = regex.sub(\" \", text)  # remove all punctuation + numbers\n",
    "    nopunct = re.sub(r\"\\s+\", ' ', nopunct) # replace multiple spaces with one space\n",
    "    words = nltk.word_tokenize(nopunct)\n",
    "    words = [w for w in words if len(w) > 2] # drop words of length < 3\n",
    "    words = [w for w in words if w not in stop_words.ENGLISH_STOP_WORDS] # drop stop words\n",
    "    words = stemwords(words)  # call stemwords() to get words stemmed\n",
    "    return words\n",
    "\n",
    "def stemwords(words):\n",
    "    \"\"\"\n",
    "    Given a list of tokens/words, return a new list with each word\n",
    "    stemmed using a PorterStemmer.\n",
    "    \"\"\"\n",
    "    stemmer = PorterStemmer()\n",
    "    stemmed = [stemmer.stem(w) for w in words]\n",
    "    return stemmed\n",
    "\n",
    "def most_common_n(filename, n):\n",
    "    rdd = sc.parallelize(filename, 8)\n",
    "    rdd_listed = rdd.flatMap(lambda x: tokenize(x))\n",
    "    ctr = Counter(rdd_listed.collect())\n",
    "    most_common_list = ctr.most_common(n)\n",
    "    return most_common_list\n",
    "\n",
    "# def word_freq(filename):\n",
    "#     rdd = sc.parallelize(filename, 8)\n",
    "#     rdd_listed = rdd.flatMap(lambda x: tokenize(x))\n",
    "#     ctr = Counter(rdd_listed.collect())\n",
    "#     return ctr"
   ]
  },
  {
   "cell_type": "code",
   "execution_count": 12,
   "metadata": {},
   "outputs": [],
   "source": [
    "n = 50\n",
    "most_common_n_dict = {}\n",
    "for label in reviewer_label_list:\n",
    "    most_common_n_dict[label] = most_common_n(dict_text_agg[label], n)"
   ]
  },
  {
   "cell_type": "code",
   "execution_count": 13,
   "metadata": {
    "scrolled": true
   },
   "outputs": [
    {
     "data": {
      "text/plain": [
       "[('food', 52242),\n",
       " ('place', 48173),\n",
       " ('great', 44277),\n",
       " ('good', 43776),\n",
       " ('order', 28145),\n",
       " ('time', 28097),\n",
       " ('servic', 27680),\n",
       " ('love', 24822),\n",
       " ('like', 24672),\n",
       " ('tri', 21604),\n",
       " ('just', 20777),\n",
       " ('realli', 17906),\n",
       " ('delici', 17290),\n",
       " ('come', 16747),\n",
       " ('restaur', 16200),\n",
       " ('best', 15722),\n",
       " ('nice', 14708),\n",
       " ('amaz', 14037),\n",
       " ('friendli', 14027),\n",
       " ('chicken', 14027),\n",
       " ('staff', 12549),\n",
       " ('price', 12543),\n",
       " ('got', 12429),\n",
       " ('menu', 12377),\n",
       " ('make', 12168),\n",
       " ('eat', 12159),\n",
       " ('definit', 11846),\n",
       " ('wait', 11794),\n",
       " ('drink', 11500),\n",
       " ('fri', 11385),\n",
       " ('pizza', 11184),\n",
       " ('fresh', 10813),\n",
       " ('littl', 10666),\n",
       " ('recommend', 10210),\n",
       " ('don', 10138),\n",
       " ('look', 10059),\n",
       " ('want', 9997),\n",
       " ('tast', 9865),\n",
       " ('came', 9384),\n",
       " ('bar', 8972),\n",
       " ('favorit', 8963),\n",
       " ('locat', 8945),\n",
       " ('burger', 8887),\n",
       " ('salad', 8864),\n",
       " ('enjoy', 8505),\n",
       " ('sauc', 8498),\n",
       " ('lunch', 8482),\n",
       " ('tabl', 8379),\n",
       " ('meal', 8279),\n",
       " ('chees', 8277)]"
      ]
     },
     "execution_count": 13,
     "metadata": {},
     "output_type": "execute_result"
    }
   ],
   "source": [
    "most_common_n_dict['easy']"
   ]
  },
  {
   "cell_type": "code",
   "execution_count": 16,
   "metadata": {},
   "outputs": [],
   "source": [
    "sc.stop()"
   ]
  },
  {
   "cell_type": "code",
   "execution_count": 17,
   "metadata": {},
   "outputs": [],
   "source": [
    "import pickle\n",
    "# Dump the list\n",
    "filename = 'most_common_n_dict'\n",
    "outfile = open(filename, 'wb')\n",
    "pickle.dump(most_common_n_dict, outfile)\n",
    "outfile.close()"
   ]
  }
 ],
 "metadata": {
  "kernelspec": {
   "display_name": "Python 3",
   "language": "python",
   "name": "python3"
  },
  "language_info": {
   "codemirror_mode": {
    "name": "ipython",
    "version": 3
   },
   "file_extension": ".py",
   "mimetype": "text/x-python",
   "name": "python",
   "nbconvert_exporter": "python",
   "pygments_lexer": "ipython3",
   "version": "3.6.5"
  }
 },
 "nbformat": 4,
 "nbformat_minor": 2
}
