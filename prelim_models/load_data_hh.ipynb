{
 "cells": [
  {
   "cell_type": "code",
   "execution_count": 38,
   "metadata": {},
   "outputs": [],
   "source": [
    "import sys\n",
    "import json\n",
    "import pandas as pd\n",
    "import numpy as np"
   ]
  },
  {
   "cell_type": "code",
   "execution_count": 3,
   "metadata": {},
   "outputs": [],
   "source": [
    "review_fn = \"/Users/evan/msds_main/machine_learning_1/yelp/yelp_dataset/yelp_academic_dataset_review.json\"\n",
    "\n",
    "with open(review_fn, 'r', encoding='UTF-8') as f:\n",
    "    rev_data = f.readlines()\n",
    "    # this line below may take at least 8-10 minutes of processing for 4-5 million rows. It converts all strings in list to actual json objects. \n",
    "    rev_data = list(map(json.loads, rev_data))\n",
    "    \n",
    "rev_df = pd.DataFrame(rev_data)\n",
    "\n",
    "business_fn = '/Users/evan/msds_main/machine_learning_1/yelp/yelp_dataset/yelp_academic_dataset_business.json'\n",
    "\n",
    "with open(business_fn, 'r', encoding='UTF-8') as f:\n",
    "    bus_data = f.readlines()\n",
    "    # this line below may take at least 8-10 minutes of processing for 4-5 million rows. It converts all strings in list to actual json objects. \n",
    "    bus_data = list(map(json.loads, bus_data))"
   ]
  },
  {
   "cell_type": "code",
   "execution_count": 5,
   "metadata": {},
   "outputs": [],
   "source": [
    "bus_df = pd.DataFrame(bus_data)[['business_id','categories','attributes','city','name','review_count','stars']]\n",
    "bus_df = bus_df[bus_df.categories.str.contains('Restaurant|Food', na=False)]\n",
    "bus_df = bus_df[bus_df.review_count > 25]"
   ]
  },
  {
   "cell_type": "code",
   "execution_count": 76,
   "metadata": {},
   "outputs": [],
   "source": [
    "# Create happy hour label from attributes data\n",
    "bus_df['happy_hour'] = [True if attrs is not None and \"HappyHour\" in attrs and attrs[\"HappyHour\"] == \"True\" else False for attrs in bus_df['attributes']]"
   ]
  },
  {
   "cell_type": "code",
   "execution_count": 77,
   "metadata": {
    "slideshow": {
     "slide_type": "slide"
    }
   },
   "outputs": [],
   "source": [
    "rest_df = rev_df.merge(bus_df, how='inner', left_on='business_id', right_on='business_id')\n",
    "rest_df.to_csv('yelp_business_and_reviews', sep='\\t', encoding='utf-8')"
   ]
  },
  {
   "cell_type": "code",
   "execution_count": 54,
   "metadata": {},
   "outputs": [
    {
     "name": "stderr",
     "output_type": "stream",
     "text": [
      "/Users/evan/anaconda3/envs/ml/lib/python3.6/site-packages/IPython/core/interactiveshell.py:3018: DtypeWarning: Columns (0,2,4,6,16) have mixed types. Specify dtype option on import or set low_memory=False.\n",
      "  interactivity=interactivity, compiler=compiler, result=result)\n"
     ]
    }
   ],
   "source": [
    "df = pd.read_csv('yelp_business_and_reviews',sep='\\t',index_col=0)"
   ]
  }
 ],
 "metadata": {
  "kernelspec": {
   "display_name": "Python 3",
   "language": "python",
   "name": "python3"
  },
  "language_info": {
   "codemirror_mode": {
    "name": "ipython",
    "version": 3
   },
   "file_extension": ".py",
   "mimetype": "text/x-python",
   "name": "python",
   "nbconvert_exporter": "python",
   "pygments_lexer": "ipython3",
   "version": "3.6.6"
  }
 },
 "nbformat": 4,
 "nbformat_minor": 2
}
