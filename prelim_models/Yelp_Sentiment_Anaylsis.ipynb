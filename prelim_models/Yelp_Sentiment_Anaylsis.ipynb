{
 "cells": [
  {
   "cell_type": "markdown",
   "metadata": {},
   "source": [
    "# Sentiment Anaylsis of Yelp Reviews"
   ]
  },
  {
   "cell_type": "code",
   "execution_count": 27,
   "metadata": {},
   "outputs": [],
   "source": [
    "import pandas as pd\n",
    "from vaderSentiment.vaderSentiment import SentimentIntensityAnalyzer\n",
    "import json\n",
    "import numpy as np\n",
    "import matplotlib.mlab as mlab\n",
    "import matplotlib.pyplot as plt"
   ]
  },
  {
   "cell_type": "code",
   "execution_count": 2,
   "metadata": {},
   "outputs": [],
   "source": [
    "# load data set\n",
    "with open('df_by_usr.json', 'r', encoding='UTF-8') as f:\n",
    "    data = f.readlines()\n",
    "    df_by_usr_data = list(map(json.loads, data))\n",
    "    \n",
    "df_by_usr = pd.DataFrame(df_by_usr_data)"
   ]
  },
  {
   "cell_type": "code",
   "execution_count": 3,
   "metadata": {},
   "outputs": [
    {
     "data": {
      "text/html": [
       "<div>\n",
       "<style scoped>\n",
       "    .dataframe tbody tr th:only-of-type {\n",
       "        vertical-align: middle;\n",
       "    }\n",
       "\n",
       "    .dataframe tbody tr th {\n",
       "        vertical-align: top;\n",
       "    }\n",
       "\n",
       "    .dataframe thead th {\n",
       "        text-align: right;\n",
       "    }\n",
       "</style>\n",
       "<table border=\"1\" class=\"dataframe\">\n",
       "  <thead>\n",
       "    <tr style=\"text-align: right;\">\n",
       "      <th></th>\n",
       "      <th>avg_star_delta</th>\n",
       "      <th>reviewer_label</th>\n",
       "      <th>text_agg</th>\n",
       "      <th>user_id</th>\n",
       "    </tr>\n",
       "  </thead>\n",
       "  <tbody>\n",
       "    <tr>\n",
       "      <th>0</th>\n",
       "      <td>-0.318182</td>\n",
       "      <td>med</td>\n",
       "      <td>Ummm, due to the star ratings on Yelp we made ...</td>\n",
       "      <td>--3WaS23LcIXtxyFULJHTA</td>\n",
       "    </tr>\n",
       "    <tr>\n",
       "      <th>1</th>\n",
       "      <td>-0.947368</td>\n",
       "      <td>hard</td>\n",
       "      <td>In my opinion, this restaurant has the best fo...</td>\n",
       "      <td>--4rAAfZnEIAKJE80aIiYg</td>\n",
       "    </tr>\n",
       "    <tr>\n",
       "      <th>2</th>\n",
       "      <td>0.333333</td>\n",
       "      <td>med</td>\n",
       "      <td>All is right with the world. After going to th...</td>\n",
       "      <td>--CIuK7sUpaNzalLAlHJKA</td>\n",
       "    </tr>\n",
       "    <tr>\n",
       "      <th>3</th>\n",
       "      <td>0.900000</td>\n",
       "      <td>easy</td>\n",
       "      <td>One of the best buffets I have been to for the...</td>\n",
       "      <td>--HCoE1ghaAlcaAfshICgw</td>\n",
       "    </tr>\n",
       "    <tr>\n",
       "      <th>4</th>\n",
       "      <td>-0.166667</td>\n",
       "      <td>med</td>\n",
       "      <td>Great pizza.  Pasta is just ok, but the qualit...</td>\n",
       "      <td>--NIc98RMssgy0mSZL3vpA</td>\n",
       "    </tr>\n",
       "  </tbody>\n",
       "</table>\n",
       "</div>"
      ],
      "text/plain": [
       "   avg_star_delta reviewer_label  \\\n",
       "0       -0.318182            med   \n",
       "1       -0.947368           hard   \n",
       "2        0.333333            med   \n",
       "3        0.900000           easy   \n",
       "4       -0.166667            med   \n",
       "\n",
       "                                            text_agg                 user_id  \n",
       "0  Ummm, due to the star ratings on Yelp we made ...  --3WaS23LcIXtxyFULJHTA  \n",
       "1  In my opinion, this restaurant has the best fo...  --4rAAfZnEIAKJE80aIiYg  \n",
       "2  All is right with the world. After going to th...  --CIuK7sUpaNzalLAlHJKA  \n",
       "3  One of the best buffets I have been to for the...  --HCoE1ghaAlcaAfshICgw  \n",
       "4  Great pizza.  Pasta is just ok, but the qualit...  --NIc98RMssgy0mSZL3vpA  "
      ]
     },
     "execution_count": 3,
     "metadata": {},
     "output_type": "execute_result"
    }
   ],
   "source": [
    "df_by_usr.head()"
   ]
  },
  {
   "cell_type": "code",
   "execution_count": null,
   "metadata": {},
   "outputs": [],
   "source": [
    "len(df_by_usr['text_agg'])"
   ]
  },
  {
   "cell_type": "code",
   "execution_count": 4,
   "metadata": {},
   "outputs": [
    {
     "data": {
      "text/plain": [
       "0.9996"
      ]
     },
     "execution_count": 4,
     "metadata": {},
     "output_type": "execute_result"
    }
   ],
   "source": [
    "analyzer = SentimentIntensityAnalyzer()\n",
    "scores = analyzer.polarity_scores(df_by_usr['text_agg'][0])\n",
    "score = scores['compound']\n",
    "score"
   ]
  },
  {
   "cell_type": "code",
   "execution_count": 5,
   "metadata": {},
   "outputs": [
    {
     "data": {
      "text/plain": [
       "'hard'"
      ]
     },
     "execution_count": 5,
     "metadata": {},
     "output_type": "execute_result"
    }
   ],
   "source": [
    "df_by_usr['reviewer_label'][1]"
   ]
  },
  {
   "cell_type": "code",
   "execution_count": 7,
   "metadata": {},
   "outputs": [],
   "source": [
    "df_hard = df_by_usr[df_by_usr.reviewer_label=='hard']"
   ]
  },
  {
   "cell_type": "code",
   "execution_count": 8,
   "metadata": {},
   "outputs": [
    {
     "data": {
      "text/plain": [
       "5738"
      ]
     },
     "execution_count": 8,
     "metadata": {},
     "output_type": "execute_result"
    }
   ],
   "source": [
    "len(df_hard)"
   ]
  },
  {
   "cell_type": "code",
   "execution_count": 9,
   "metadata": {},
   "outputs": [],
   "source": [
    "df_large_delta = df_by_usr[df_by_usr.avg_star_delta > 0.5]"
   ]
  },
  {
   "cell_type": "code",
   "execution_count": 10,
   "metadata": {},
   "outputs": [
    {
     "data": {
      "text/plain": [
       "5910"
      ]
     },
     "execution_count": 10,
     "metadata": {},
     "output_type": "execute_result"
    }
   ],
   "source": [
    "len(df_large_delta)"
   ]
  },
  {
   "cell_type": "code",
   "execution_count": 17,
   "metadata": {},
   "outputs": [],
   "source": [
    "analyzer = SentimentIntensityAnalyzer()\n",
    "text = df_large_delta['text_agg']\n",
    "\n",
    "sentiment = []\n",
    "for t in text:\n",
    "    scores = analyzer.polarity_scores(t)\n",
    "    score = scores['compound']\n",
    "    sentiment.append(score)\n",
    "\n",
    "#df_by_user['sentiment_scores'] = sentiment\n",
    "\n",
    "#scores = analyzer.polarity_scores(text)\n",
    "#score = scores['compound']"
   ]
  },
  {
   "cell_type": "code",
   "execution_count": 25,
   "metadata": {},
   "outputs": [
    {
     "name": "stderr",
     "output_type": "stream",
     "text": [
      "/Users/7of9/anaconda3/lib/python3.6/site-packages/ipykernel_launcher.py:1: SettingWithCopyWarning: \n",
      "A value is trying to be set on a copy of a slice from a DataFrame.\n",
      "Try using .loc[row_indexer,col_indexer] = value instead\n",
      "\n",
      "See the caveats in the documentation: http://pandas.pydata.org/pandas-docs/stable/indexing.html#indexing-view-versus-copy\n",
      "  \"\"\"Entry point for launching an IPython kernel.\n"
     ]
    }
   ],
   "source": [
    "df_large_delta['sentiment_score'] = sentiment"
   ]
  },
  {
   "cell_type": "code",
   "execution_count": 26,
   "metadata": {},
   "outputs": [
    {
     "data": {
      "text/html": [
       "<div>\n",
       "<style scoped>\n",
       "    .dataframe tbody tr th:only-of-type {\n",
       "        vertical-align: middle;\n",
       "    }\n",
       "\n",
       "    .dataframe tbody tr th {\n",
       "        vertical-align: top;\n",
       "    }\n",
       "\n",
       "    .dataframe thead th {\n",
       "        text-align: right;\n",
       "    }\n",
       "</style>\n",
       "<table border=\"1\" class=\"dataframe\">\n",
       "  <thead>\n",
       "    <tr style=\"text-align: right;\">\n",
       "      <th></th>\n",
       "      <th>avg_star_delta</th>\n",
       "      <th>reviewer_label</th>\n",
       "      <th>text_agg</th>\n",
       "      <th>user_id</th>\n",
       "      <th>sentiment_score</th>\n",
       "    </tr>\n",
       "  </thead>\n",
       "  <tbody>\n",
       "    <tr>\n",
       "      <th>3</th>\n",
       "      <td>0.900000</td>\n",
       "      <td>easy</td>\n",
       "      <td>One of the best buffets I have been to for the...</td>\n",
       "      <td>--HCoE1ghaAlcaAfshICgw</td>\n",
       "      <td>0.9996</td>\n",
       "    </tr>\n",
       "    <tr>\n",
       "      <th>11</th>\n",
       "      <td>1.033333</td>\n",
       "      <td>easy</td>\n",
       "      <td>First time customer.....daughter's bday choice...</td>\n",
       "      <td>-0dOdNR_GMZq0yHWYuwRaw</td>\n",
       "      <td>0.9999</td>\n",
       "    </tr>\n",
       "    <tr>\n",
       "      <th>12</th>\n",
       "      <td>0.678571</td>\n",
       "      <td>easy</td>\n",
       "      <td>This is my all time favorite burger place.  Ve...</td>\n",
       "      <td>-0g4b9oK3iptky6YY3vDyQ</td>\n",
       "      <td>0.9995</td>\n",
       "    </tr>\n",
       "    <tr>\n",
       "      <th>15</th>\n",
       "      <td>0.666667</td>\n",
       "      <td>easy</td>\n",
       "      <td>Oooh I bet this taco shop got plenty of action...</td>\n",
       "      <td>-1-pTXLHph2vcqRCNeT4_Q</td>\n",
       "      <td>0.9999</td>\n",
       "    </tr>\n",
       "    <tr>\n",
       "      <th>20</th>\n",
       "      <td>0.666667</td>\n",
       "      <td>easy</td>\n",
       "      <td>Great place for breakfast. Ask for your potato...</td>\n",
       "      <td>-1ZMRA0N01rqZL0TWk3fgA</td>\n",
       "      <td>0.9992</td>\n",
       "    </tr>\n",
       "  </tbody>\n",
       "</table>\n",
       "</div>"
      ],
      "text/plain": [
       "    avg_star_delta reviewer_label  \\\n",
       "3         0.900000           easy   \n",
       "11        1.033333           easy   \n",
       "12        0.678571           easy   \n",
       "15        0.666667           easy   \n",
       "20        0.666667           easy   \n",
       "\n",
       "                                             text_agg                 user_id  \\\n",
       "3   One of the best buffets I have been to for the...  --HCoE1ghaAlcaAfshICgw   \n",
       "11  First time customer.....daughter's bday choice...  -0dOdNR_GMZq0yHWYuwRaw   \n",
       "12  This is my all time favorite burger place.  Ve...  -0g4b9oK3iptky6YY3vDyQ   \n",
       "15  Oooh I bet this taco shop got plenty of action...  -1-pTXLHph2vcqRCNeT4_Q   \n",
       "20  Great place for breakfast. Ask for your potato...  -1ZMRA0N01rqZL0TWk3fgA   \n",
       "\n",
       "    sentiment_score  \n",
       "3            0.9996  \n",
       "11           0.9999  \n",
       "12           0.9995  \n",
       "15           0.9999  \n",
       "20           0.9992  "
      ]
     },
     "execution_count": 26,
     "metadata": {},
     "output_type": "execute_result"
    }
   ],
   "source": [
    "df_large_delta.head()"
   ]
  },
  {
   "cell_type": "code",
   "execution_count": 31,
   "metadata": {},
   "outputs": [
    {
     "data": {
      "text/plain": [
       "count    5910.000000\n",
       "mean        0.997779\n",
       "std         0.058103\n",
       "min        -0.999900\n",
       "25%         0.999500\n",
       "50%         0.999800\n",
       "75%         0.999900\n",
       "max         1.000000\n",
       "Name: sentiment_score, dtype: float64"
      ]
     },
     "execution_count": 31,
     "metadata": {},
     "output_type": "execute_result"
    }
   ],
   "source": [
    "df_large_delta['sentiment_score'].describe()"
   ]
  },
  {
   "cell_type": "code",
   "execution_count": 30,
   "metadata": {},
   "outputs": [
    {
     "data": {
      "text/plain": [
       "(array([5.000e+00, 0.000e+00, 0.000e+00, 0.000e+00, 0.000e+00, 0.000e+00,\n",
       "        0.000e+00, 0.000e+00, 0.000e+00, 0.000e+00, 0.000e+00, 0.000e+00,\n",
       "        0.000e+00, 0.000e+00, 0.000e+00, 0.000e+00, 0.000e+00, 0.000e+00,\n",
       "        0.000e+00, 0.000e+00, 0.000e+00, 0.000e+00, 0.000e+00, 0.000e+00,\n",
       "        0.000e+00, 0.000e+00, 0.000e+00, 0.000e+00, 0.000e+00, 0.000e+00,\n",
       "        0.000e+00, 0.000e+00, 0.000e+00, 0.000e+00, 0.000e+00, 0.000e+00,\n",
       "        0.000e+00, 0.000e+00, 0.000e+00, 0.000e+00, 0.000e+00, 0.000e+00,\n",
       "        0.000e+00, 0.000e+00, 0.000e+00, 0.000e+00, 1.000e+00, 1.000e+00,\n",
       "        0.000e+00, 5.903e+03]),\n",
       " array([-9.99900e-01, -9.59902e-01, -9.19904e-01, -8.79906e-01,\n",
       "        -8.39908e-01, -7.99910e-01, -7.59912e-01, -7.19914e-01,\n",
       "        -6.79916e-01, -6.39918e-01, -5.99920e-01, -5.59922e-01,\n",
       "        -5.19924e-01, -4.79926e-01, -4.39928e-01, -3.99930e-01,\n",
       "        -3.59932e-01, -3.19934e-01, -2.79936e-01, -2.39938e-01,\n",
       "        -1.99940e-01, -1.59942e-01, -1.19944e-01, -7.99460e-02,\n",
       "        -3.99480e-02,  5.00000e-05,  4.00480e-02,  8.00460e-02,\n",
       "         1.20044e-01,  1.60042e-01,  2.00040e-01,  2.40038e-01,\n",
       "         2.80036e-01,  3.20034e-01,  3.60032e-01,  4.00030e-01,\n",
       "         4.40028e-01,  4.80026e-01,  5.20024e-01,  5.60022e-01,\n",
       "         6.00020e-01,  6.40018e-01,  6.80016e-01,  7.20014e-01,\n",
       "         7.60012e-01,  8.00010e-01,  8.40008e-01,  8.80006e-01,\n",
       "         9.20004e-01,  9.60002e-01,  1.00000e+00]),\n",
       " <a list of 50 Patch objects>)"
      ]
     },
     "execution_count": 30,
     "metadata": {},
     "output_type": "execute_result"
    },
    {
     "data": {
      "image/png": "[encoded data removed]",
      "text/plain": [
       "<matplotlib.figure.Figure at 0x11d1da4e0>"
      ]
     },
     "metadata": {},
     "output_type": "display_data"
    }
   ],
   "source": [
    "plt.hist(df_large_delta['sentiment_score'], bins=50)"
   ]
  },
  {
   "cell_type": "code",
   "execution_count": 32,
   "metadata": {},
   "outputs": [
    {
     "data": {
      "text/plain": [
       "35051"
      ]
     },
     "execution_count": 32,
     "metadata": {},
     "output_type": "execute_result"
    }
   ],
   "source": [
    "len(df_by_usr)"
   ]
  },
  {
   "cell_type": "code",
   "execution_count": 37,
   "metadata": {},
   "outputs": [],
   "source": [
    "df_small_delta = df_by_usr[df_by_usr.avg_star_delta < 0.05]"
   ]
  },
  {
   "cell_type": "code",
   "execution_count": 38,
   "metadata": {},
   "outputs": [
    {
     "data": {
      "text/plain": [
       "17307"
      ]
     },
     "execution_count": 38,
     "metadata": {},
     "output_type": "execute_result"
    }
   ],
   "source": [
    "len(df_small_delta)"
   ]
  },
  {
   "cell_type": "code",
   "execution_count": 39,
   "metadata": {},
   "outputs": [],
   "source": [
    "df_hard = df_by_usr[df_by_usr.reviewer_label == 'hard']"
   ]
  },
  {
   "cell_type": "code",
   "execution_count": 41,
   "metadata": {},
   "outputs": [
    {
     "data": {
      "text/plain": [
       "5738"
      ]
     },
     "execution_count": 41,
     "metadata": {},
     "output_type": "execute_result"
    }
   ],
   "source": [
    "len(df_hard)"
   ]
  },
  {
   "cell_type": "code",
   "execution_count": 42,
   "metadata": {},
   "outputs": [],
   "source": [
    "# Small delta\n",
    "text = df_hard['text_agg']\n",
    "\n",
    "sentiment_hard = []\n",
    "for t in text:\n",
    "    scores = analyzer.polarity_scores(t)\n",
    "    score = scores['compound']\n",
    "    sentiment_hard.append(score)"
   ]
  },
  {
   "cell_type": "code",
   "execution_count": 43,
   "metadata": {},
   "outputs": [
    {
     "name": "stderr",
     "output_type": "stream",
     "text": [
      "/Users/7of9/anaconda3/lib/python3.6/site-packages/ipykernel_launcher.py:1: SettingWithCopyWarning: \n",
      "A value is trying to be set on a copy of a slice from a DataFrame.\n",
      "Try using .loc[row_indexer,col_indexer] = value instead\n",
      "\n",
      "See the caveats in the documentation: http://pandas.pydata.org/pandas-docs/stable/indexing.html#indexing-view-versus-copy\n",
      "  \"\"\"Entry point for launching an IPython kernel.\n"
     ]
    }
   ],
   "source": [
    "df_hard['sentiment_score'] = sentiment_hard"
   ]
  },
  {
   "cell_type": "code",
   "execution_count": 44,
   "metadata": {},
   "outputs": [
    {
     "data": {
      "text/html": [
       "<div>\n",
       "<style scoped>\n",
       "    .dataframe tbody tr th:only-of-type {\n",
       "        vertical-align: middle;\n",
       "    }\n",
       "\n",
       "    .dataframe tbody tr th {\n",
       "        vertical-align: top;\n",
       "    }\n",
       "\n",
       "    .dataframe thead th {\n",
       "        text-align: right;\n",
       "    }\n",
       "</style>\n",
       "<table border=\"1\" class=\"dataframe\">\n",
       "  <thead>\n",
       "    <tr style=\"text-align: right;\">\n",
       "      <th></th>\n",
       "      <th>avg_star_delta</th>\n",
       "      <th>reviewer_label</th>\n",
       "      <th>text_agg</th>\n",
       "      <th>user_id</th>\n",
       "      <th>sentiment_score</th>\n",
       "    </tr>\n",
       "  </thead>\n",
       "  <tbody>\n",
       "    <tr>\n",
       "      <th>1</th>\n",
       "      <td>-0.947368</td>\n",
       "      <td>hard</td>\n",
       "      <td>In my opinion, this restaurant has the best fo...</td>\n",
       "      <td>--4rAAfZnEIAKJE80aIiYg</td>\n",
       "      <td>0.9998</td>\n",
       "    </tr>\n",
       "    <tr>\n",
       "      <th>5</th>\n",
       "      <td>-0.666667</td>\n",
       "      <td>hard</td>\n",
       "      <td>At 1200+ reviews, there's basically nothing to...</td>\n",
       "      <td>--WLHsm-AC4jcol2gOkmCQ</td>\n",
       "      <td>0.9991</td>\n",
       "    </tr>\n",
       "    <tr>\n",
       "      <th>6</th>\n",
       "      <td>-0.656250</td>\n",
       "      <td>hard</td>\n",
       "      <td>Popular sandwich place, located on the Vegas s...</td>\n",
       "      <td>-00kdEIhCt-ODaV4BS-EAg</td>\n",
       "      <td>0.9993</td>\n",
       "    </tr>\n",
       "    <tr>\n",
       "      <th>10</th>\n",
       "      <td>-0.500000</td>\n",
       "      <td>hard</td>\n",
       "      <td>The food was pretty good. \\n\\nPrices a little ...</td>\n",
       "      <td>-0Xu57zrI3Rxi8wGZsnWKQ</td>\n",
       "      <td>0.9997</td>\n",
       "    </tr>\n",
       "    <tr>\n",
       "      <th>23</th>\n",
       "      <td>-0.527778</td>\n",
       "      <td>hard</td>\n",
       "      <td>Great Menu, Really cool place, and amazing ser...</td>\n",
       "      <td>-1ksPJf0Eppmxj9ZNCkMRw</td>\n",
       "      <td>0.9998</td>\n",
       "    </tr>\n",
       "  </tbody>\n",
       "</table>\n",
       "</div>"
      ],
      "text/plain": [
       "    avg_star_delta reviewer_label  \\\n",
       "1        -0.947368           hard   \n",
       "5        -0.666667           hard   \n",
       "6        -0.656250           hard   \n",
       "10       -0.500000           hard   \n",
       "23       -0.527778           hard   \n",
       "\n",
       "                                             text_agg                 user_id  \\\n",
       "1   In my opinion, this restaurant has the best fo...  --4rAAfZnEIAKJE80aIiYg   \n",
       "5   At 1200+ reviews, there's basically nothing to...  --WLHsm-AC4jcol2gOkmCQ   \n",
       "6   Popular sandwich place, located on the Vegas s...  -00kdEIhCt-ODaV4BS-EAg   \n",
       "10  The food was pretty good. \\n\\nPrices a little ...  -0Xu57zrI3Rxi8wGZsnWKQ   \n",
       "23  Great Menu, Really cool place, and amazing ser...  -1ksPJf0Eppmxj9ZNCkMRw   \n",
       "\n",
       "    sentiment_score  \n",
       "1            0.9998  \n",
       "5            0.9991  \n",
       "6            0.9993  \n",
       "10           0.9997  \n",
       "23           0.9998  "
      ]
     },
     "execution_count": 44,
     "metadata": {},
     "output_type": "execute_result"
    }
   ],
   "source": [
    "df_hard.head()"
   ]
  },
  {
   "cell_type": "code",
   "execution_count": 46,
   "metadata": {},
   "outputs": [
    {
     "data": {
      "text/plain": [
       "(array([1.730e+02, 3.900e+01, 1.700e+01, 9.000e+00, 4.000e+00, 1.100e+01,\n",
       "        5.000e+00, 3.000e+00, 4.000e+00, 5.000e+00, 3.000e+00, 5.000e+00,\n",
       "        2.000e+00, 3.000e+00, 1.000e+00, 0.000e+00, 0.000e+00, 0.000e+00,\n",
       "        1.000e+00, 0.000e+00, 0.000e+00, 1.000e+00, 1.000e+00, 0.000e+00,\n",
       "        0.000e+00, 0.000e+00, 0.000e+00, 0.000e+00, 0.000e+00, 0.000e+00,\n",
       "        0.000e+00, 0.000e+00, 4.000e+00, 0.000e+00, 1.000e+00, 2.000e+00,\n",
       "        5.000e+00, 6.000e+00, 3.000e+00, 2.000e+00, 4.000e+00, 4.000e+00,\n",
       "        7.000e+00, 8.000e+00, 9.000e+00, 4.000e+00, 1.500e+01, 2.600e+01,\n",
       "        6.300e+01, 5.288e+03]),\n",
       " array([-9.9950e-01, -9.5951e-01, -9.1952e-01, -8.7953e-01, -8.3954e-01,\n",
       "        -7.9955e-01, -7.5956e-01, -7.1957e-01, -6.7958e-01, -6.3959e-01,\n",
       "        -5.9960e-01, -5.5961e-01, -5.1962e-01, -4.7963e-01, -4.3964e-01,\n",
       "        -3.9965e-01, -3.5966e-01, -3.1967e-01, -2.7968e-01, -2.3969e-01,\n",
       "        -1.9970e-01, -1.5971e-01, -1.1972e-01, -7.9730e-02, -3.9740e-02,\n",
       "         2.5000e-04,  4.0240e-02,  8.0230e-02,  1.2022e-01,  1.6021e-01,\n",
       "         2.0020e-01,  2.4019e-01,  2.8018e-01,  3.2017e-01,  3.6016e-01,\n",
       "         4.0015e-01,  4.4014e-01,  4.8013e-01,  5.2012e-01,  5.6011e-01,\n",
       "         6.0010e-01,  6.4009e-01,  6.8008e-01,  7.2007e-01,  7.6006e-01,\n",
       "         8.0005e-01,  8.4004e-01,  8.8003e-01,  9.2002e-01,  9.6001e-01,\n",
       "         1.0000e+00]),\n",
       " <a list of 50 Patch objects>)"
      ]
     },
     "execution_count": 46,
     "metadata": {},
     "output_type": "execute_result"
    },
    {
     "data": {
      "image/png": "[encoded data removed]",
      "text/plain": [
       "<matplotlib.figure.Figure at 0x11d8e3ef0>"
      ]
     },
     "metadata": {},
     "output_type": "display_data"
    }
   ],
   "source": [
    "plt.hist(df_hard.sentiment_score, bins=50)"
   ]
  },
  {
   "cell_type": "code",
   "execution_count": 49,
   "metadata": {},
   "outputs": [
    {
     "data": {
      "text/plain": [
       "'In my opinion, this restaurant has the best food in Phoenix. Everything tastes great. I wish they were located in a safer neighborhood so that people can go there for dinner. But other than that, this place is amazing!!! I go there at least once a month to get my favorite \"smokehouse burger\". This is by far the best burger in AZ. I love burgers in general and I have tried just about every place in phx but I have to say this smokehouse burger beats them all.Cool place but awful service, for me at least. I was there with my wife yesterday for our anniversary. We had an awesome table on the patio but our server (John) was sooo slow and disinterested it was insane. He walked by our table 5-6 times to go over chat with his two friends at a table next to us but he kept ignoring us. It took him almost 30 minuets just to bring me a soda...honestly he was kinda creepy too. \\nI typically don\\'t like writing bad reviews but man this guy has no business of being a server at all. \\nThe restaurant is cool and the food is pretty solid too. Reasonably priced too. But crappy service will turn me to go elsewhere next time.Not impressed at all. We came for dinner on a Saturday evening around 7-ish, They changed 3 different waiters for us, and all 3 were super slow. When we ordered drinks plus some food, the waiter came back 3 times with bad news.They ran out of sparkling water, ran out of Mexican draft beer and ran out of brussel sprouts...how do you run of out these things on a Saturday evening when you  know it will be busy? I waited for my pepsi for like 20 minuets, it came in a very small glass which only lasted 5-6 sips and never got a refill of any kind. The food was very basic at best. My wife and her friend only ate 1/2 of their salads because there was nothing in them and no flavor at all. Way overpriced for what it is. I give it 2 stars because their outside patio looks nice, otherwise mehh. I\\'m not going back.Pretty cool place and good burgers. I liked it because it\\'s different from the rest of Scottsdale. Staff was friendly, tables and silverware were clean and the whole vibe was casual and inviting. Our burgers were huge and tasty. There are many varieties on the menu. It is also reasonably priced. There was nothing negative about it and that\\'s why I gave it 5 stars. I love these little places like this one. Local, small, inviting, casual and amazing food.Their pizzas are amazing. But the service along with silverware and the plates are  terrible!!! Servers are way too casual and often look dirty...I get it, that\\'s part of the theme but it just doesn\\'t feel right. It feels dirty. The tables are usually wet when you sit down because they were wiped down with a nasty soaked towel. Oh well I love the food so I will go back but it\\'s kind of pricey for the service and atmosphere.Even though I absolutely love food, I\\'m a very picky eater. I can easily say that this is my favorite restaurant in AZ. I ate at LGO at least 25-30 times and I was never disappointed, not even once. Their coffee is great (Havana latte), their wings ate awesome, their Green Chilly burger is out of this world!!! It won the best burger in AZ award few years ago. Their pizzas are amazing......I usually get \"the gladiator\" with avocado, prosciutto and spinach added!!!!! Man I\\'m telling you, it\\'s insanely delicious. Their gelato and other deserts are awesome too. Large drink variety and it is reasonably priced. This place is awesome. 5 stars for sure.I had their pulled pork with spicy bbq sauce. I was impressed. Probably my favorite bbq place in Phoenix. I didn\\'t give it 5 stars because the place is dirty inside. Flies are EVERYWHERE...Their food is excellent but they really need to clean this place up a bit. I will definitely go back, I can\\'t get enough of that spicy bbq sauce. I\\'m glad I found this place since it\\'s so close to me :) \"bbq tastes so good it makes you wanna slap your momma\"Everything is awesome but my time definitely kept expiring before 1 hour mark that we would pay for. People next to us said the same thing. Food is awesome thoughI was looking forward to coming here but I have to say I was disappointed. The portions are way way too small. It\\'s also fairly overpriced for what you get. These sandwiches are maybe as big as a Cd/dvd disc....but probably smaller. We got two sandwiches and 1 water =$21. For me it just felt like a light appetizer, I was still hungry afterwards. It just felt like a waste of money. I like the location and the decor but I don\\'t think I will come back for food that\\'s for sure.Small but warm and welcoming. You feel welcomed as soon as you walk in. Awesome coffee and great food. Reasonably priced as well. I\\'ll definitely come back.Food sucks and staff is even worse. I can\\'t believe that people pay to eat there. Their wings are usually dry (not enough sauce), glasses are dirty, silverware is dirty, servers are terrible and why can\\'t they use plates instead of paper??? I don\\'t like the atmosphere and I\\'m not going back.Probably the worst customer service in the world. The owner is always angry and he act like he\\'s doing you a favor by taking your money. The pizza is usually super greasy but I don\\'t even want to talk about the food, I just can\\'t believe how rude this guy is. He never ever says thank you or anything at all other than \"what do you want\" and the price. I think he\\'s Albanian (judging by the flag on the walk) he does some dirty business in the back. My brother and I noticed few times some guys going in the back with duffle bags and leaving after like 5-10 minutes with different bags. There is something dirty going on here I guarantee it, I think they are using this business as a smoke screen for money laundering. I will never go there again for as long as I live!!!!I hate doing this but seriously, this is the worst bbq that I ever tried. Their sandwiches are cheap I\\'ll give them that but they are also very small and tasteless. I went there for lunch and I actually bought 3 different sandwiches cause I wanted to try out different stuff. Long story short; I took one bite out of each sandwich and I threw them away. Fries were super old and soggy...I just can\\'t find one positive about this place.First time trying.... Awesome coffee but even better service. Jordan hooked it up big time. I\\'m coming back for more!!!! What an awesome guy. 5 stars for sure....The sandwiches are great but man it is too expensive. Today I got a sandwich and a small soda and my bill was almost $21. Come on! Yes I got a giant but it was nothing special, just the Italian sandwich with a small drink... I just can\\'t justify the price. $21... I think it\\'s way too expensive for what it is.First of all, I love Pei Wei.....but I hate this location. Went there 3 times, had a bad experience each time. Today (4th attempt) I tried calling to place my order over the phone because I know they take forever..... I was on hold for solid 15-20 minutes. Hung up and called again.....still nothing. Hung up and went to in-n-out across the street. I repeat again, I love Pei Wei. But this location sucks. I usually go to the one on Bell & 3rd street (excellent customer service) so I was all excited about this new location but so far it has been a disaster each time I went. I hope they do something and fix this right away. \\nUpdate: just went there again....and I threw half of it away. This time my chicken was so undercooked I was afraid to eat it. It actually tasted rubbery and chewy. Needless to say, I\\'m done with this location. They failed all 5 times that I went there. That\\'s it for me.Great smoothies but terrible customer service. I go there few times a week and both me and my friends noticed this weird trend. If the guys are working the customer service is terrible!!! Especially one big guy with acne, he is downright angry. But we have never had any issues with girls that work there. Usually there are two girls that work together sometimes (one is blonde and the other has dark black hair, both kinda tall). They are both super nice. But these other meatheads that work there will definitely make me go elsewhere simply because of the nonexistent customer service.Their food is pretty good but the customer service is absolutely terrible!!!!! Basically if you are not Bosnian you will be treated like shit. I don\\'t understand why is it so hard to be polite to people that are coming in there to give you their business. I went there few times for lunch with few different people and the lack of customer service never fails!!!! Angry faces, people starring, cashier not telling you the amount.....needless to say, I\\'m not going back. It\\'s a shame that they discriminate against people who are not their own kind.I was just there for the first time, randomly found it on yelp. Pretty good protein shake and some awesome & friendly customer service. I usually go to one stop nutrition but I hate the meatheads that work there. This place was pretty cool and I will definitely come back. Not sure what the girls\\' name was but she was very nice, helpful and friendly.'"
      ]
     },
     "execution_count": 49,
     "metadata": {},
     "output_type": "execute_result"
    }
   ],
   "source": [
    "df_hard['text_agg'][1]"
   ]
  },
  {
   "cell_type": "code",
   "execution_count": 52,
   "metadata": {},
   "outputs": [
    {
     "data": {
      "text/plain": [
       "{'neg': 0.096, 'neu': 0.691, 'pos': 0.213, 'compound': 0.9998}"
      ]
     },
     "execution_count": 52,
     "metadata": {},
     "output_type": "execute_result"
    }
   ],
   "source": [
    "analyzer.polarity_scores(df_hard['text_agg'][1])"
   ]
  },
  {
   "cell_type": "code",
   "execution_count": 50,
   "metadata": {},
   "outputs": [
    {
     "data": {
      "text/plain": [
       "'At 1200+ reviews, there\\'s basically nothing to add. :)\\n\\nWraps fall apart because they aren\\'t wrapped tightly enough. Ask for the halves to be separately wrapped and then peel the wrapper like a burrito if you want to be neat about it.\\n\\nCheddar soup and tomato soup are both good, due largely to the rich, creamy factor. :) Jerk chicken sandwich is the best. Bread is toasted when you order; meats are roasted that morning. Yes, the business owners are related to THAT Earl of Sandwich, the famous gambler and inventor of handy meals.\\n\\n$6 for sandwiches, $3 for soups. Open 24 hours with a lot of tables. Lotsa gawkers because it\\'s right on the edge of the casino & the mall. Also, really poor cell phone reception.\\n\\nAttractive counter staff.Amazing bread. Crusty, hot baguette, served whole, in a paper bag.\\n\\nChestnut soup was good. Salads were larger than expected, and better than expected, too. (e.g., careful construction of warm dressing, delicate croutons, very fresh ingredients) Marinated chicken had a delicious skin, but the herbs didn\\'t soak all the way through and it was bland inside. Filet mignon was fine. Frites were so, so good! Steak au poivre was too thin. Mashed potatoes were boring; garlic spinach were fine.\\n\\nFrench wine selection, unsurprisingly. \\n\\nService was prompt and obnoxious, which is the best that can be expected for a French restaurant with an image to maintain. :-)\\n\\nPrices reasonable for a restaurant on the Strip with a shtick. However, holiday menu price is NOT reasonable.\\n\\nNote: even with a dinner reservation, you need to come early and put your name on the list to sit outside for a view of the Bellagio fountains.Small, length-wise balcony on the Strip makes for nice outdoor seating and people-watching. Indoors is darker, with chandeliers and tin-mirrored ceilings in a large room. The music can get loud, as it\\'s pitched to be heard above the diners\\' conversation din. Marble tables and small cafe-style chairs.\\n\\nWait service is slow, sloppy, and not particularly warm. (One server was downright rude; the other was \"slick\" and glib, but very obviously upselling to increase the tab total.) The best service comes from the unnamed busboys, drink refillers, runners, etc.\\n\\nThe magic that keeps the restaurant busy is that it\\'s 24-hours, with a broad menu. It also gets a big boost from the many celebrity endorsements. (Though the thumbs-up are for dessert, not food!) \\n\\nClub sandwich was very good -- nice touches like herb mayo and three choices of bread to show they care. The mussels are huge, but blandly seasoned. \\n\\nDesserts are the real draw, of course. (2/3 of the breakfast items were really just dessert, like red velvet pancakes, apple pie waffles, nutella pancakes, etc.) The rocky road muffin was stale and not nearly as sweet as expected. The munchie waffle was even more unappealing -- piling on four different kinds of sugar/syrups didn\\'t help.\\n\\nHelpful tip: appetizer mussels are the same size as entree mussels, but without the french fries. So, they\\'re charge $8 extra for mediocre fries! Better to steal off your friend\\'s plate. :)Huge portions, good service (in skimpy outfits), and the basics (eggs and hash browns) are decidedly better than Denny\\'s. Certainly gaudy, but isn\\'t that the point?\\n\\nUnlike other reviewers, we didn\\'t experience excessive endearments from our server, though she was from the South.Excellent pizza. Quick service. Settebello Special managed to include numerous ingredients without becoming too heavy or muddled in flavor. The pine nuts were an inspired touch. Capricciosa was good, but the Greek olives were too strong and a bit of an off choice. Artichokes worked well. Diavola was perfect. Not too spicy, and the Nero d\\'Avola complemented it wonderfully.\\n\\nWarning: crust is veryveryvery thin. So thin that it takes some care just to hold it...Bummer. The quality has gone down. Dirty floors when I came in last time, even though the restaurant was quiet. Food, tracked in mud, and toothpcks were scattered all over.\\n\\nThere was a portable air conditioner plugged in, in the corner, to compensate for a broken HVAC. Presumably due to the broken HVAC, the place reeked strongly of spoiled fish sauce.\\n\\nAnother bit of bad news: the prices have gone up. Almost $6.50 for an order of 4 eggrolls. The eggrolls were tasty still, but not worth the value.\\n\\nI noticed that the place was much emptier than previously. Probably a reaction to all the above. Waitstaff still friendly and attentive, though.Fine egg rolls and good pork chops. The beef with lemon tasted fresh, but wasn\\'t served correctly: too much \"filler\" carrots and failed to include herbs, lettuce, and rice wrappers. Shrimp crackers were the extra large variety, not the smaller palm-sized. Egg cake was served cold, which was weird. Really good service.It\\'s open 24 hours and the interior is reasonably pretty. That\\'s basically the only thing keeping this place in business.\\n\\nThe food is bland and indifferently prepared -- similar to Denny\\'s in the flavor and freshness -- but the waitstaff is always cordial.\\n\\nWe\\'ve eaten here a lot because we\\'ve been too lazy to walk outside. The only memorable part, after numerous visits, is the creme brulee dessert. Prepared in pretty, curvy ramekins, with different flavors, and nicely caramelized on top.Meh food, selection, cleanliness. Good price, though, and nice view and service.We\\'re huge fans of the SEA in Brooklyn. They\\'ve transported the hanging chairs, rectangular pond, the statue, the caged area, the wood accents, and menu to Vegas now. No deejay, though, at least on weekdays.\\n\\nPrices are much higher (about twice as much) and service is slower (even though the place is a third the size of Brooklyn\\'s). The entrees were $16 - $18/each.\\n\\nTheir menu is Vietnamese on one side and Thai on the other. Ingredients are fresh and dishes are well-balanced. Good-sized portions and the kitchen is good with custom orders. Stand-out dishes are the drunken noodles, pad thai, and pineapple fried rice.\\n\\nUnfortunately, the smoky smoky smoky air brought this from a 4-star down to a 3. The water also tasted chlorine-y, which should bring this down to a 2.5, except that the servers are extra-courteous (e.g., rushing to get a to-go cup so I could bring my iced coffee with me when I left).Huge portions for waffles and pancakes. Great waffles -- crisp and light, even with mounds of ice cream and whipped cream. Especially good cinnamon raisin pancakes. Eggs and hash brown are only so-so. Service is spotty.Iced coffee was right. Egg rolls didn\\'t haven\\'t enough meat, but were otherwise excellent. In contrast, the spring rolls had too much filler. Pho broth wasn\\'t very flavorful, but all meats were correctly cooked and simmered. Service was lackluster and slow, even on a quiet night. Very expensive for what you get.\\n\\nTruthfully, this should be a two star, but I\\'m adding a whole star just for the major benefit of having a late night Vietnamese option on the Strip.'"
      ]
     },
     "execution_count": 50,
     "metadata": {},
     "output_type": "execute_result"
    }
   ],
   "source": [
    "df_hard['text_agg'][5]"
   ]
  },
  {
   "cell_type": "code",
   "execution_count": 51,
   "metadata": {},
   "outputs": [
    {
     "data": {
      "text/plain": [
       "{'neg': 0.061, 'neu': 0.781, 'pos': 0.159, 'compound': 0.9991}"
      ]
     },
     "execution_count": 51,
     "metadata": {},
     "output_type": "execute_result"
    }
   ],
   "source": [
    "analyzer.polarity_scores(df_hard['text_agg'][5])"
   ]
  },
  {
   "cell_type": "code",
   "execution_count": null,
   "metadata": {},
   "outputs": [],
   "source": []
  }
 ],
 "metadata": {
  "kernelspec": {
   "display_name": "Python 3",
   "language": "python",
   "name": "python3"
  },
  "language_info": {
   "codemirror_mode": {
    "name": "ipython",
    "version": 3
   },
   "file_extension": ".py",
   "mimetype": "text/x-python",
   "name": "python",
   "nbconvert_exporter": "python",
   "pygments_lexer": "ipython3",
   "version": "3.6.6"
  }
 },
 "nbformat": 4,
 "nbformat_minor": 2
}
