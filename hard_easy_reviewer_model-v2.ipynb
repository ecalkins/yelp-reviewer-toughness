{
 "cells": [
  {
   "cell_type": "markdown",
   "metadata": {},
   "source": [
    "## Review text processing, model building, & model results"
   ]
  },
  {
   "cell_type": "code",
   "execution_count": 1,
   "metadata": {
    "ExecuteTime": {
     "end_time": "2018-12-06T08:33:06.900692Z",
     "start_time": "2018-12-06T08:33:04.570018Z"
    }
   },
   "outputs": [],
   "source": [
    "import sys\n",
    "import json\n",
    "import pandas as pd\n",
    "import numpy as np\n",
    "import string\n",
    "import matplotlib.pyplot as plt\n",
    "import seaborn as sns"
   ]
  },
  {
   "cell_type": "code",
   "execution_count": 2,
   "metadata": {
    "ExecuteTime": {
     "end_time": "2018-12-06T08:50:59.703591Z",
     "start_time": "2018-12-06T08:50:59.698603Z"
    }
   },
   "outputs": [],
   "source": [
    "from sklearn.datasets import load_files\n",
    "from sklearn.model_selection import train_test_split\n",
    "from sklearn.metrics import accuracy_score, precision_score, recall_score, confusion_matrix, make_scorer\n",
    "from sklearn.feature_extraction.text import TfidfVectorizer\n",
    "from sklearn.svm import LinearSVC\n",
    "from sklearn.linear_model import LogisticRegression\n",
    "from sklearn.linear_model import SGDClassifier\n",
    "from sklearn.linear_model import PassiveAggressiveClassifier\n",
    "from sklearn.base import BaseEstimator\n",
    "from sklearn.model_selection import GridSearchCV\n",
    "from sklearn.pipeline import Pipeline\n",
    "from sklearn import model_selection\n",
    "from sklearn.linear_model import LogisticRegressionCV"
   ]
  },
  {
   "cell_type": "markdown",
   "metadata": {},
   "source": [
    "### Read in Preprocessed data"
   ]
  },
  {
   "cell_type": "code",
   "execution_count": 3,
   "metadata": {
    "ExecuteTime": {
     "end_time": "2018-12-06T08:33:09.279812Z",
     "start_time": "2018-12-06T08:33:08.355886Z"
    }
   },
   "outputs": [],
   "source": [
    "with open('df_by_usr.json', 'r', encoding='UTF-8') as f:\n",
    "    data = f.readlines()\n",
    "    df_by_usr_data = list(map(json.loads, data))\n",
    "    \n",
    "df_by_usr = pd.DataFrame(df_by_usr_data)"
   ]
  },
  {
   "cell_type": "code",
   "execution_count": 4,
   "metadata": {
    "ExecuteTime": {
     "end_time": "2018-12-06T08:33:09.750423Z",
     "start_time": "2018-12-06T08:33:09.745441Z"
    }
   },
   "outputs": [
    {
     "data": {
      "text/plain": [
       "(35051, 4)"
      ]
     },
     "execution_count": 4,
     "metadata": {},
     "output_type": "execute_result"
    }
   ],
   "source": [
    "df_by_usr.shape"
   ]
  },
  {
   "cell_type": "code",
   "execution_count": 5,
   "metadata": {
    "ExecuteTime": {
     "end_time": "2018-12-06T08:33:10.885362Z",
     "start_time": "2018-12-06T08:33:10.874359Z"
    }
   },
   "outputs": [],
   "source": [
    "train_data, test_data, train_target, test_target = train_test_split(df_by_usr['text_agg'],\n",
    "                                                                    df_by_usr['reviewer_label'])"
   ]
  },
  {
   "cell_type": "code",
   "execution_count": 6,
   "metadata": {
    "ExecuteTime": {
     "end_time": "2018-12-06T08:33:11.495447Z",
     "start_time": "2018-12-06T08:33:11.489454Z"
    }
   },
   "outputs": [],
   "source": [
    "str_test_data = []\n",
    "for text in test_data:\n",
    "    str_test_data.append(str(text))"
   ]
  },
  {
   "cell_type": "code",
   "execution_count": 7,
   "metadata": {
    "ExecuteTime": {
     "end_time": "2018-12-06T08:33:12.304274Z",
     "start_time": "2018-12-06T08:33:12.289278Z"
    }
   },
   "outputs": [],
   "source": [
    "str_train_data = []\n",
    "for text in train_data:\n",
    "    str_train_data.append(str(text))"
   ]
  },
  {
   "cell_type": "markdown",
   "metadata": {},
   "source": [
    "### GridSearchCV (Warning: this takes hours to run)"
   ]
  },
  {
   "cell_type": "code",
   "execution_count": 8,
   "metadata": {
    "ExecuteTime": {
     "end_time": "2018-12-06T08:55:58.009732Z",
     "start_time": "2018-12-06T08:55:58.004744Z"
    }
   },
   "outputs": [],
   "source": [
    "def gscv(pipe, grid_params):\n",
    "    return GridSearchCV(estimator=pipe,\n",
    "                  param_grid=grid_params,\n",
    "                  scoring={'recall' : make_scorer(recall_score, average='macro', labels=['easy','hard'])},\n",
    "                  refit='recall',\n",
    "                  cv=3,\n",
    "                  verbose=2)"
   ]
  },
  {
   "cell_type": "code",
   "execution_count": null,
   "metadata": {
    "ExecuteTime": {
     "end_time": "2018-12-06T14:16:58.749746Z",
     "start_time": "2018-12-06T08:55:59.002320Z"
    }
   },
   "outputs": [
    {
     "name": "stdout",
     "output_type": "stream",
     "text": [
      "Fitting 3 folds for each of 40 candidates, totalling 120 fits\n",
      "[CV] clf__C=100000000.0, clf__fit_intercept=True, clf__tol=0.01 ......\n"
     ]
    },
    {
     "name": "stderr",
     "output_type": "stream",
     "text": [
      "[Parallel(n_jobs=1)]: Using backend SequentialBackend with 1 concurrent workers.\n"
     ]
    }
   ],
   "source": [
    "pipe_lr = Pipeline([('vect', TfidfVectorizer(binary=True, ngram_range=(1,2), max_df=0.98)),\n",
    "                 ('clf', LogisticRegression(multi_class='multinomial', solver='lbfgs'))])\n",
    "\n",
    "grid_params = dict(clf__C=np.logspace(8, 9, 5),\n",
    "                   clf__tol=[0.01,0.001,0.0001,0.00001],\n",
    "                   clf__fit_intercept=[True,False])\n",
    "\n",
    "gs_lr = gscv(pipe_lr, grid_params)\n",
    "gs_lr.fit(str_train_data, train_target)\n",
    "\n",
    "print(gs_lr.best_score_)\n",
    "gs_lr.best_estimator_.get_params()"
   ]
  },
  {
   "cell_type": "markdown",
   "metadata": {},
   "source": [
    "{'memory': None,\n",
    " 'steps': [('clf',\n",
    "   LogisticRegression(C=562341325.1903491, class_weight=None, dual=False,\n",
    "             fit_intercept=True, intercept_scaling=1, max_iter=100,\n",
    "             multi_class='multinomial', n_jobs=1, penalty='l2',\n",
    "             random_state=0, solver='lbfgs', tol=0.01, verbose=0,\n",
    "             warm_start=False))],\n",
    " 'clf': LogisticRegression(C=562341325.1903491, class_weight=None, dual=False,\n",
    "           fit_intercept=True, intercept_scaling=1, max_iter=100,\n",
    "           multi_class='multinomial', n_jobs=1, penalty='l2',\n",
    "           random_state=0, solver='lbfgs', tol=0.01, verbose=0,\n",
    "           warm_start=False),\n",
    " 'clf__C': 562341325.1903491,\n",
    " 'clf__class_weight': None,\n",
    " 'clf__dual': False,\n",
    " 'clf__fit_intercept': True,\n",
    " 'clf__intercept_scaling': 1,\n",
    " 'clf__max_iter': 100,\n",
    " 'clf__multi_class': 'multinomial',\n",
    " 'clf__n_jobs': 1,\n",
    " 'clf__penalty': 'l2',\n",
    " 'clf__random_state': 0,\n",
    " 'clf__solver': 'lbfgs',\n",
    " 'clf__tol': 0.01,\n",
    " 'clf__verbose': 0,\n",
    " 'clf__warm_start': False}"
   ]
  },
  {
   "cell_type": "code",
   "execution_count": null,
   "metadata": {
    "ExecuteTime": {
     "end_time": "2018-12-06T18:54:20.848898Z",
     "start_time": "2018-12-06T14:16:58.749746Z"
    }
   },
   "outputs": [],
   "source": [
    "pipe_tfidf = Pipeline([('vect', TfidfVectorizer(binary=True, ngram_range=(1,2), max_df=0.98)),\n",
    "                 ('clf', LogisticRegression(C=562341325, multi_class='multinomial',tol=0.01, solver='lbfgs'))])\n",
    "\n",
    "grid_params = [{'vect__ngram_range' : [(1,2),(2,2)],\n",
    "           'vect__max_df' : np.arange(0.9,1.0,0.1),\n",
    "           'vect__norm' : ['l1','l2', None],\n",
    "           'vect__sublinear_tf' : [True, False]}]\n",
    "\n",
    "gs_tfidf = gscv(pipe_tfidf, grid_params)\n",
    "\n",
    "gs_tfidf.fit(str_train_data, train_target) \n",
    "print(gs_tfidf.best_score_)\n",
    "gs_tfidf.best_estimator_.get_params()"
   ]
  },
  {
   "cell_type": "markdown",
   "metadata": {},
   "source": [
    "### Define Metric Functions"
   ]
  },
  {
   "cell_type": "code",
   "execution_count": 9,
   "metadata": {
    "ExecuteTime": {
     "end_time": "2018-12-06T08:41:18.720124Z",
     "start_time": "2018-12-06T08:41:18.715157Z"
    }
   },
   "outputs": [],
   "source": [
    "def print_metrics(pred):\n",
    "    acc = accuracy_score(pred, test_target)\n",
    "    prec = precision_score(test_target, pred, average=None, labels=['easy','med','hard'])\n",
    "    rec = recall_score(test_target, pred, average=None,  labels=['easy','med','hard'])\n",
    "\n",
    "    print(f\"Accuracy: {acc}\")\n",
    "    print(f\"Precision: {prec}\")\n",
    "    print(f\"Recall: {rec}\")"
   ]
  },
  {
   "cell_type": "code",
   "execution_count": 10,
   "metadata": {
    "ExecuteTime": {
     "end_time": "2018-12-06T18:58:56.878341Z",
     "start_time": "2018-12-06T18:58:56.862341Z"
    }
   },
   "outputs": [],
   "source": [
    "def plot_cm(pred):\n",
    "    cm = confusion_matrix(test_target,pred, labels=['easy','med','hard'])\n",
    "    cm = cm.astype('float')/cm.sum(axis=1)[:, np.newaxis]\n",
    "\n",
    "    df_cm = pd.DataFrame(cm, index = ['easy', 'med', 'hard'],\n",
    "                      columns = ['easy', 'med', 'hard'])\n",
    "\n",
    "    plt.figure(figsize = (5,5))\n",
    "    sns.heatmap(df_cm, annot=True)\n",
    "    plt.ylabel('True label')\n",
    "    plt.xlabel('Predicted label')\n",
    "    plt.tight_layout()"
   ]
  },
  {
   "cell_type": "markdown",
   "metadata": {
    "ExecuteTime": {
     "end_time": "2018-12-06T08:30:46.893606Z",
     "start_time": "2018-12-06T08:30:46.860328Z"
    }
   },
   "source": [
    "### Run All Models with Optimal Parameters for full metrics"
   ]
  },
  {
   "cell_type": "code",
   "execution_count": 11,
   "metadata": {
    "ExecuteTime": {
     "end_time": "2018-12-06T08:34:47.514488Z",
     "start_time": "2018-12-06T08:33:21.489483Z"
    }
   },
   "outputs": [],
   "source": [
    "vectorizer = TfidfVectorizer(binary=True, ngram_range=(1,2), max_df=0.98) \n",
    "train_features = vectorizer.fit_transform(str_train_data)\n",
    "test_features = vectorizer.transform(str_test_data)"
   ]
  },
  {
   "cell_type": "code",
   "execution_count": 12,
   "metadata": {
    "ExecuteTime": {
     "end_time": "2018-12-06T19:03:12.368682Z",
     "start_time": "2018-12-06T19:01:07.684994Z"
    },
    "scrolled": false
   },
   "outputs": [
    {
     "name": "stdout",
     "output_type": "stream",
     "text": [
      "Accuracy: 0.7358210658450303\n",
      "Precision: [0.65568369 0.74482373 0.7202381 ]\n",
      "Recall: [0.26928281 0.9158782  0.49320652]\n"
     ]
    },
    {
     "data": {
      "image/png": "[encoded data removed]",
      "text/plain": [
       "<Figure size 360x360 with 2 Axes>"
      ]
     },
     "metadata": {
      "needs_background": "light"
     },
     "output_type": "display_data"
    }
   ],
   "source": [
    "lr = LogisticRegression(C=562341325, solver='lbfgs', multi_class='multinomial', tol=0.01)\n",
    "lr.fit(train_features, train_target)\n",
    "lr_pred = lr.predict(test_features)\n",
    "    \n",
    "print_metrics(lr_pred)\n",
    "plot_cm(lr_pred)"
   ]
  },
  {
   "cell_type": "code",
   "execution_count": 18,
   "metadata": {
    "ExecuteTime": {
     "end_time": "2018-12-06T08:50:30.143227Z",
     "start_time": "2018-12-06T08:50:16.882271Z"
    }
   },
   "outputs": [
    {
     "name": "stderr",
     "output_type": "stream",
     "text": [
      "/Users/evan/anaconda3/envs/ml/lib/python3.6/site-packages/sklearn/metrics/classification.py:1143: UndefinedMetricWarning: Precision is ill-defined and being set to 0.0 in labels with no predicted samples.\n",
      "  'precision', 'predicted', average, warn_for)\n"
     ]
    },
    {
     "name": "stdout",
     "output_type": "stream",
     "text": [
      "Accuracy: 0.6633572977290882\n",
      "Precision: [0.        0.6633573 0.       ]\n",
      "Recall: [0. 1. 0.]\n"
     ]
    },
    {
     "data": {
      "image/png": "[encoded data removed]",
      "text/plain": [
       "<Figure size 360x360 with 2 Axes>"
      ]
     },
     "metadata": {
      "needs_background": "light"
     },
     "output_type": "display_data"
    }
   ],
   "source": [
    "sgd = SGDClassifier(loss='log', penalty='elasticnet', l1_ratio=0.5)\n",
    "sgd.fit(train_features, train_target)\n",
    "sgd_pred = sgd.predict(test_features)\n",
    "    \n",
    "print_metrics(sgd_pred)\n",
    "plot_cm(sgd_pred)"
   ]
  },
  {
   "cell_type": "code",
   "execution_count": 14,
   "metadata": {
    "ExecuteTime": {
     "end_time": "2018-12-06T08:50:43.974268Z",
     "start_time": "2018-12-06T08:50:30.145222Z"
    }
   },
   "outputs": [
    {
     "name": "stdout",
     "output_type": "stream",
     "text": [
      "Accuracy: 0.7101449275362319\n",
      "Precision: [0.74893617 0.70392035 0.79310345]\n",
      "Recall: [0.11907984 0.97299157 0.265625  ]\n"
     ]
    },
    {
     "data": {
      "image/png": "[encoded data removed]",
      "text/plain": [
       "<Figure size 360x360 with 2 Axes>"
      ]
     },
     "metadata": {
      "needs_background": "light"
     },
     "output_type": "display_data"
    }
   ],
   "source": [
    "svm = LinearSVC(fit_intercept=True)\n",
    "svm.fit(train_features, train_target)\n",
    "svm_pred = svm.predict(test_features)\n",
    "\n",
    "print_metrics(svm_pred)\n",
    "plot_cm(svm_pred)"
   ]
  },
  {
   "cell_type": "code",
   "execution_count": 15,
   "metadata": {
    "ExecuteTime": {
     "end_time": "2018-12-06T08:52:32.153554Z",
     "start_time": "2018-12-06T08:52:28.034448Z"
    },
    "scrolled": false
   },
   "outputs": [
    {
     "name": "stderr",
     "output_type": "stream",
     "text": [
      "/Users/evan/anaconda3/envs/ml/lib/python3.6/site-packages/sklearn/linear_model/stochastic_gradient.py:144: FutureWarning: max_iter and tol parameters have been added in PassiveAggressiveClassifier in 0.19. If both are left unset, they default to max_iter=5 and tol=None. If tol is not None, max_iter defaults to max_iter=1000. From 0.21, default max_iter will be 1000, and default tol will be 1e-3.\n",
      "  FutureWarning)\n"
     ]
    },
    {
     "name": "stdout",
     "output_type": "stream",
     "text": [
      "Accuracy: 0.7197306858381832\n",
      "Precision: [0.69066667 0.71725921 0.76569678]\n",
      "Recall: [0.17523681 0.95441252 0.33967391]\n"
     ]
    },
    {
     "data": {
      "image/png": "[encoded data removed]",
      "text/plain": [
       "<Figure size 360x360 with 2 Axes>"
      ]
     },
     "metadata": {
      "needs_background": "light"
     },
     "output_type": "display_data"
    }
   ],
   "source": [
    "pac = PassiveAggressiveClassifier(C=1.04)\n",
    "pac.fit(train_features, train_target)\n",
    "pac_pred = pac.predict(test_features)\n",
    "\n",
    "print_metrics(pac_pred)\n",
    "plot_cm(pac_pred)"
   ]
  },
  {
   "cell_type": "markdown",
   "metadata": {},
   "source": [
    "### Perform Cross Validation across optimized algorithms"
   ]
  },
  {
   "cell_type": "code",
   "execution_count": 32,
   "metadata": {},
   "outputs": [
    {
     "name": "stdout",
     "output_type": "stream",
     "text": [
      "Acc SVC: 0.9326923076923076 (mean), 0.005116643003348656, (std)\n",
      "Acc LR: 0.9297161172161172 (mean), 0.006151569982849979, (std)\n"
     ]
    },
    {
     "name": "stderr",
     "output_type": "stream",
     "text": [
      "/Users/evan/anaconda3/envs/ml/lib/python3.6/site-packages/sklearn/linear_model/stochastic_gradient.py:144: FutureWarning: max_iter and tol parameters have been added in SGDClassifier in 0.19. If both are left unset, they default to max_iter=5 and tol=None. If tol is not None, max_iter defaults to max_iter=1000. From 0.21, default max_iter will be 1000, and default tol will be 1e-3.\n",
      "  FutureWarning)\n"
     ]
    },
    {
     "name": "stdout",
     "output_type": "stream",
     "text": [
      "Acc SGD: 0.9189560439560441 (mean), 0.007528884456229581, (std)\n"
     ]
    },
    {
     "name": "stderr",
     "output_type": "stream",
     "text": [
      "/Users/evan/anaconda3/envs/ml/lib/python3.6/site-packages/sklearn/linear_model/stochastic_gradient.py:144: FutureWarning: max_iter and tol parameters have been added in PassiveAggressiveClassifier in 0.19. If both are left unset, they default to max_iter=5 and tol=None. If tol is not None, max_iter defaults to max_iter=1000. From 0.21, default max_iter will be 1000, and default tol will be 1e-3.\n",
      "  FutureWarning)\n"
     ]
    },
    {
     "name": "stdout",
     "output_type": "stream",
     "text": [
      "Acc PAC: 0.9371565934065934 (mean), 0.005793979274195842, (std)\n"
     ]
    }
   ],
   "source": [
    "models = [('SVC', LinearSVC(fit_intercept=True)),\n",
    "          ('LR', LogisticRegression(C=562341325, multi_class='multinomial',tol=0.01, solver='lbfgs')),\n",
    "          ('SGD', SGDClassifier(loss='log', penalty='elasticnet', l1_ratio=0.2)),\n",
    "          ('PAC', PassiveAggressiveClassifier(C=1.04))]\n",
    "names = []\n",
    "all_results = []\n",
    "for name, model in models:\n",
    "    kfold = model_selection.KFold(n_splits=3)\n",
    "    results = model_selection.cross_val_score(model, train_features,\n",
    "                                                 train_target, cv=kfold,\n",
    "                                                 scoring='accuracy')\n",
    "    all_results.append(results)\n",
    "    names.append(name)\n",
    "    print(f'Acc {name}: {results.mean()} (mean), {results.std()}, (std)')"
   ]
  },
  {
   "cell_type": "code",
   "execution_count": 34,
   "metadata": {},
   "outputs": [
    {
     "data": {
      "image/png": "[encoded data removed]",
      "text/plain": [
       "<Figure size 432x288 with 1 Axes>"
      ]
     },
     "metadata": {
      "needs_background": "light"
     },
     "output_type": "display_data"
    }
   ],
   "source": [
    "fig = plt.figure()\n",
    "fig.suptitle('Comparing Algorithms')\n",
    "ax = fig.add_subplot(111)\n",
    "plt.boxplot(all_results)\n",
    "ax.set_xticklabels(names)\n",
    "plt.show()"
   ]
  },
  {
   "cell_type": "markdown",
   "metadata": {},
   "source": [
    "### Simplify data set by removing neutral (med) reviewers, retrain model"
   ]
  },
  {
   "cell_type": "code",
   "execution_count": 22,
   "metadata": {},
   "outputs": [],
   "source": [
    "easy_med_df = df_by_usr[df_by_usr.reviewer_label!='med']"
   ]
  },
  {
   "cell_type": "code",
   "execution_count": 23,
   "metadata": {},
   "outputs": [],
   "source": [
    "train_data, test_data, train_target, test_target = train_test_split(df_by_usr['text_agg'],\n",
    "                                                                    df_by_usr['reviewer_label'])"
   ]
  },
  {
   "cell_type": "code",
   "execution_count": 24,
   "metadata": {},
   "outputs": [],
   "source": [
    "def plot_cm(pred):\n",
    "    cm = confusion_matrix(test_target,pred, labels=['easy', 'hard'])\n",
    "    cm = cm.astype('float')/cm.sum(axis=1)[:, np.newaxis]\n",
    "\n",
    "    df_cm = pd.DataFrame(cm, index = ['easy', 'hard'],\n",
    "                      columns = ['easy', 'hard'])\n",
    "\n",
    "    plt.figure(figsize = (5,5))\n",
    "    sns.heatmap(df_cm, annot=True)\n",
    "    plt.ylabel('True label')\n",
    "    plt.xlabel('Predicted label')\n",
    "    plt.tight_layout()"
   ]
  },
  {
   "cell_type": "code",
   "execution_count": 25,
   "metadata": {
    "ExecuteTime": {
     "end_time": "2018-12-06T08:33:11.495447Z",
     "start_time": "2018-12-06T08:33:11.489454Z"
    }
   },
   "outputs": [],
   "source": [
    "str_test_data = []\n",
    "for text in test_data:\n",
    "    str_test_data.append(str(text))"
   ]
  },
  {
   "cell_type": "code",
   "execution_count": 26,
   "metadata": {
    "ExecuteTime": {
     "end_time": "2018-12-06T08:33:12.304274Z",
     "start_time": "2018-12-06T08:33:12.289278Z"
    }
   },
   "outputs": [],
   "source": [
    "str_train_data = []\n",
    "for text in train_data:\n",
    "    str_train_data.append(str(text))"
   ]
  },
  {
   "cell_type": "code",
   "execution_count": 27,
   "metadata": {},
   "outputs": [],
   "source": [
    "df_easy_hard = df_by_usr[df_by_usr.reviewer_label!='med']\n",
    "\n",
    "train_data, test_data, train_target, test_target = train_test_split(df_easy_hard['text_agg'],\n",
    "                                                                    df_easy_hard['reviewer_label'])\n",
    "\n",
    "str_test_data = []\n",
    "for text in test_data:\n",
    "    str_test_data.append(str(text))\n",
    "    \n",
    "str_train_data = []\n",
    "for text in train_data:\n",
    "    str_train_data.append(str(text))\n",
    "\n",
    "vectorizer = TfidfVectorizer(binary=True, ngram_range=(1,2), max_df=0.98) \n",
    "train_features = vectorizer.fit_transform(str_train_data)\n",
    "test_features = vectorizer.transform(str_test_data)\n",
    "\n",
    "lr = LogisticRegression(C=562341325, solver='lbfgs', tol=0.01)\n",
    "lr.fit(train_features, train_target)\n",
    "lr_pred = lr.predict(test_features)"
   ]
  },
  {
   "cell_type": "markdown",
   "metadata": {},
   "source": [
    "### Print metrics for updated model"
   ]
  },
  {
   "cell_type": "code",
   "execution_count": 28,
   "metadata": {},
   "outputs": [
    {
     "name": "stdout",
     "output_type": "stream",
     "text": [
      "Accuracy: 0.9378434065934066\n",
      "Precision: [0.93884409 0.         0.93679775]\n",
      "Recall: [0.93947545 0.         0.93614035]\n"
     ]
    },
    {
     "name": "stderr",
     "output_type": "stream",
     "text": [
      "/Users/evan/anaconda3/envs/ml/lib/python3.6/site-packages/sklearn/metrics/classification.py:1143: UndefinedMetricWarning: Precision is ill-defined and being set to 0.0 in labels with no predicted samples.\n",
      "  'precision', 'predicted', average, warn_for)\n",
      "/Users/evan/anaconda3/envs/ml/lib/python3.6/site-packages/sklearn/metrics/classification.py:1145: UndefinedMetricWarning: Recall is ill-defined and being set to 0.0 in labels with no true samples.\n",
      "  'recall', 'true', average, warn_for)\n"
     ]
    },
    {
     "data": {
      "image/png": "[encoded data removed]",
      "text/plain": [
       "<Figure size 360x360 with 2 Axes>"
      ]
     },
     "metadata": {
      "needs_background": "light"
     },
     "output_type": "display_data"
    }
   ],
   "source": [
    "print_metrics(lr_pred)\n",
    "plot_cm(lr_pred)"
   ]
  }
 ],
 "metadata": {
  "kernelspec": {
   "display_name": "Python 3",
   "language": "python",
   "name": "python3"
  },
  "language_info": {
   "codemirror_mode": {
    "name": "ipython",
    "version": 3
   },
   "file_extension": ".py",
   "mimetype": "text/x-python",
   "name": "python",
   "nbconvert_exporter": "python",
   "pygments_lexer": "ipython3",
   "version": "3.6.6"
  }
 },
 "nbformat": 4,
 "nbformat_minor": 2
}
